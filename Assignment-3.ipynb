{
 "cells": [
  {
   "cell_type": "markdown",
   "metadata": {},
   "source": [
    "# Basketball analytics: distilling and summarizing Information\n",
    "\n",
    "#### Due: May 11 at 10 pm\n",
    "\n",
    "When analyzing data, setting a goal is often helpful. In this assignment, the focus is on understanding how NMF behaves, and further analyzing player data.\n",
    "\n",
    "In all the problems below, take a step back and think about each procedure as a piece in a bigger puzzle of understanding the game of basketball and its players. This goal should guide any decisions we make, and insights we interpret.\n",
    "\n",
    "## Preparing Data\n",
    "\n",
    "In the previous notebook `07-Shooting-Pattern-Analysis`, we computed smoothed shot patterns for 362 players that played during 2016-17 regular season. Save the matrix `X` from Non-negative matrix factorization (NMF) section.\n",
    "\n",
    "Please create this file from saving the appropriate variable into a picke file called `allpatterns2016-17.pkl`. After saving the file, you can load it via the following command:"
   ]
  },
  {
   "cell_type": "code",
   "execution_count": null,
   "metadata": {},
   "outputs": [],
   "source": [
    "import sklearn.decomposition as skld\n",
    "import pandas as pd\n",
    "import matplotlib.pyplot as plt\n",
    "import numpy as np\n",
    "import seaborn"
   ]
  },
  {
   "cell_type": "code",
   "execution_count": null,
   "metadata": {},
   "outputs": [],
   "source": [
    "import helper_basketball as h"
   ]
  },
  {
   "cell_type": "code",
   "execution_count": null,
   "metadata": {},
   "outputs": [],
   "source": [
    "import pickle\n",
    "X = pickle.load(open('allpatterns2016-17.pkl', 'rb'))"
   ]
  },
  {
   "cell_type": "markdown",
   "metadata": {},
   "source": [
    "## Non-negative Matrix Factorization (NMF) notation\n",
    "\n",
    "Non-negative matrix factorization was used on the smoothed shooting pattern data of around 360 players. The result was useful in\n",
    "* Bases: Identifying modes of shooting style (number of modes was determined by `n_components` argument to `NMF` function)\n",
    "* Coefficients: How each players shooting style could be expressed as a linear combination of these bases (matrix multiplication between the bases and coefficients achieve this)\n",
    "\n",
    "Recall the following. Given some matrix $X$ is $p\\times n$ matrix, NMF computes the following factorization:\n",
    "$$ \\min_{W,H} \\| X - WH \\|_F\\\\\n",
    "\\text{ subject to } W\\geq 0,\\ H\\geq 0, $$\n",
    "where $W$ is ${p\\times r}$ matrix and $H$ is ${r\\times n}$ matrix.\n",
    "\n",
    "\n",
    "## Problem 1\n",
    "\n",
    "__PSTAT 134 and 234__: Experiment with different number of `n_components` to change the number of bases vectors. Visualize the bases vectors.\n",
    "\n",
    "What value of $r$ seem to be too small? (`r` is too small to represent diversity of shooting modes) What value of $r$ seem to be too large? (`r` is too large and some bases seem to be duplicated). Note that, if a basis were a perfect duplicate of another (they will not be, but could be similar), you would use one basis instead of two.\n",
    "\n",
    "__PSTAT 234 (optional for 134)__: Choose two different choices for number of components, say $r_1=3$ and $r_2=20$. Reconstruct the shooting pattern of at least two player using 3 bases and 20 bases. Is there any difference between the reconstruction?\n",
    "\n",
    "- For a given player, plot the original shooting frequencies and corresponding reconstruction for $r \\in \\{3,20\\}$.\n",
    "\n",
    "Compute the difference: i.e., the norm of the difference  $ \\min_{W_r,H_r} \\| X - W_rH_r \\|_F$. Plot the approximation error as a function of $r$. (Note the subscript $r$ makes the choice of $r$ explicit.) Choose at least 10 different choices of $r$. Based on this plot, what can you say about choosing $r$?"
   ]
  },
  {
   "cell_type": "code",
   "execution_count": null,
   "metadata": {},
   "outputs": [],
   "source": [
    "allshots = pickle.load(open('allshots2016-17.pkl', 'rb'))\n",
    "\n",
    "# allmade = allshots.loc[allshots.SHOT_MADE_FLAG==1]\n",
    "allmade = allshots\n",
    "allmade.head()"
   ]
  },
  {
   "cell_type": "code",
   "execution_count": null,
   "metadata": {},
   "outputs": [],
   "source": [
    "## players info\n",
    "player_ids = allmade.PlayerID.unique()\n",
    "num_players = player_ids.size\n",
    "\n",
    "## bin edge definitions in inches\n",
    "xedges = (np.linspace(start=-25, stop=25, num=151, dtype=np.float)) * 12\n",
    "yedges = (np.linspace(start= -4, stop=31, num=106, dtype=np.float)) * 12\n",
    "\n",
    "## number of bins is one less than number of edges\n",
    "nx = xedges.size - 1\n",
    "ny = yedges.size - 1\n",
    "\n",
    "## 2d histogram containers for binned counts and smoothed binned counts\n",
    "all_counts = {}\n",
    "all_smooth = {}\n",
    "\n",
    "## data matrix: players (row) by vectorized 2-d court locations (column)\n",
    "for i, one in enumerate(allmade.groupby('PlayerID')):\n",
    "    \n",
    "    ## what does this line do?\n",
    "    pid, pdf = one\n",
    "    \n",
    "    ## h.bin_shots: what is this function doing?\n",
    "    tmp1, xedges, yedges = h.bin_shots(pdf, bin_edges=(xedges, yedges), density=True, sigma=2)\n",
    "    tmp2, xedges, yedges = h.bin_shots(pdf, bin_edges=(xedges, yedges), density=False)\n",
    "    \n",
    "    ## vectorize and store into dictionary\n",
    "    all_smooth[pid] = tmp1.reshape(-1)\n",
    "    all_counts[pid] = tmp2.reshape(-1)"
   ]
  },
  {
   "cell_type": "code",
   "execution_count": null,
   "metadata": {},
   "outputs": [],
   "source": [
    "n = 6\n",
    "model = skld.NMF(n_components=n, init='nndsvda', max_iter=500, random_state=0)\n",
    "W = model.fit_transform(X)\n",
    "H = model.components_"
   ]
  },
  {
   "cell_type": "code",
   "execution_count": null,
   "metadata": {},
   "outputs": [],
   "source": [
    "fig, ax = plt.subplots(3, 2, figsize=(20,20))\n",
    "\n",
    "for i, axi in enumerate(ax.flatten()):\n",
    "    h.plot_shotchart(W[:,i], xedges, yedges, ax=axi)\n",
    "    axi.set_title('NMF component ' + str(i))"
   ]
  },
  {
   "cell_type": "markdown",
   "metadata": {},
   "source": [
    "This has the bare minimum shot distribution. 3 Shot's under the basket, 1 describing the top of the key shooting 3's and 1 describing corner 3's and 45 degree angle 3's. There is also 1 describing 1 in the middle of the key."
   ]
  },
  {
   "cell_type": "code",
   "execution_count": null,
   "metadata": {},
   "outputs": [],
   "source": [
    "n = 10\n",
    "model = skld.NMF(n_components=n, init='nndsvda', max_iter=500, random_state=0)\n",
    "W = model.fit_transform(X)\n",
    "H = model.components_"
   ]
  },
  {
   "cell_type": "code",
   "execution_count": null,
   "metadata": {},
   "outputs": [],
   "source": [
    "fig, ax = plt.subplots(5, 2, figsize=(20,40))\n",
    "\n",
    "for i, axi in enumerate(ax.flatten()):\n",
    "    h.plot_shotchart(W[:,i], xedges, yedges, ax=axi)\n",
    "    axi.set_title('NMF component ' + str(i))"
   ]
  },
  {
   "cell_type": "markdown",
   "metadata": {},
   "source": [
    "At 10, There are 4 different NMF components describing shots under the basket. There are shots describing corner 3's and 3's at the top of the key. There are also NMF's describing midrange shots and shots in the key."
   ]
  },
  {
   "cell_type": "code",
   "execution_count": null,
   "metadata": {},
   "outputs": [],
   "source": [
    "n = 12\n",
    "model = skld.NMF(n_components=n, init='nndsvda', max_iter=500, random_state=0)\n",
    "W = model.fit_transform(X)\n",
    "H = model.components_"
   ]
  },
  {
   "cell_type": "code",
   "execution_count": null,
   "metadata": {},
   "outputs": [],
   "source": [
    "fig, ax = plt.subplots(6, 2, figsize=(20,40))\n",
    "\n",
    "for i, axi in enumerate(ax.flatten()):\n",
    "    h.plot_shotchart(W[:,i], xedges, yedges, ax=axi)\n",
    "    axi.set_title('NMF component ' + str(i))"
   ]
  },
  {
   "cell_type": "markdown",
   "metadata": {},
   "source": [
    "At 12, There are 5 different NMF components describing shots under the basket. There are shots describing the left side of the 3 point line, shots describing the middle and shots describing the right side of the 3 point line. There are also NMF's describing midrange shots and shots in the key."
   ]
  },
  {
   "cell_type": "code",
   "execution_count": null,
   "metadata": {},
   "outputs": [],
   "source": [
    "n = 16\n",
    "model = skld.NMF(n_components=n, init='nndsvda', max_iter=500, random_state=0)\n",
    "W = model.fit_transform(X)\n",
    "H = model.components_"
   ]
  },
  {
   "cell_type": "code",
   "execution_count": null,
   "metadata": {},
   "outputs": [],
   "source": [
    "fig, ax = plt.subplots(8, 2, figsize=(20,40))\n",
    "\n",
    "for i, axi in enumerate(ax.flatten()):\n",
    "    h.plot_shotchart(W[:,i], xedges, yedges, ax=axi)\n",
    "    axi.set_title('NMF component ' + str(i))"
   ]
  },
  {
   "cell_type": "markdown",
   "metadata": {},
   "source": [
    "At 16, we can see a few repeats, but nothing too bad. It seems like 16 describes many shots including: Under the basket, the Middle of the key, Corner 3's, Midrange Near the top, 3's from above, Midrange Complete, In the Paint. There are a couple too many repeats, but this is not bad."
   ]
  },
  {
   "cell_type": "code",
   "execution_count": null,
   "metadata": {},
   "outputs": [],
   "source": [
    "n = 20\n",
    "model = skld.NMF(n_components=n, init='nndsvda', max_iter=500, random_state=0)\n",
    "W = model.fit_transform(X)\n",
    "H = model.components_"
   ]
  },
  {
   "cell_type": "code",
   "execution_count": null,
   "metadata": {},
   "outputs": [],
   "source": [
    "fig, ax = plt.subplots(10, 2, figsize=(20,40))\n",
    "\n",
    "for i, axi in enumerate(ax.flatten()):\n",
    "    h.plot_shotchart(W[:,i], xedges, yedges, ax=axi)\n",
    "    axi.set_title('NMF component ' + str(i))"
   ]
  },
  {
   "cell_type": "markdown",
   "metadata": {},
   "source": [
    "At 30 we can see that there are 7 NMF components that describe shots under the basket. There are 2 that represent top of the Key 3 pointers. And much of the data repeats itself. This is way too many components."
   ]
  },
  {
   "cell_type": "markdown",
   "metadata": {},
   "source": [
    "Overall I found that 12 NMF components to be the ideal number of bases. It described corner 3's, 45 degree 3's and top of the key 3's. There are also further midrange shots and shorter range shots. There are also shots under the basket. There were some repeats in the corner 3's and the middle of the key shots. Past 16 seems to have too many duplicates and less than 6 is too little groups. "
   ]
  },
  {
   "cell_type": "markdown",
   "metadata": {},
   "source": [
    "Use n = 12 for the rest of the problems."
   ]
  },
  {
   "cell_type": "code",
   "execution_count": null,
   "metadata": {},
   "outputs": [],
   "source": [
    "n = 12\n",
    "model = skld.NMF(n_components=n, init='nndsvda', max_iter=500, random_state=0)\n",
    "W = model.fit_transform(X)\n",
    "H = model.components_"
   ]
  },
  {
   "cell_type": "markdown",
   "metadata": {},
   "source": [
    "## Problem 2\n",
    "\n",
    "__PSTAT 134 and 234__: In the previous question, NMF gave us a set of bases to describe each player. So, the comparison is through a standard set of shooting styles. We may also approach the comparison more directly.\n",
    "\n",
    "* In this problem, we compare of players' shooting styles to each other directly. What we are interested in is pairwise correlation between shooting patterns. Let $X_i$ represent the column in the smoothed shooting pattern for player $i$. Then, we want to compute   \n",
    "    $$ R = [\\text{Cor} (X_i, X_j)]_{i,j} $$ for all player combinations $i,j\\in\\{1,2,\\dots,362\\}$. What is the correct orientation of matrix $X$? What should be the dimension of matrix $R$?   \n",
    "    _Note: if your command is not running properly, you may be running into the issue of using too much memory, and your notebook session is rebooted by the server as a result._\n",
    "    \n",
    "* Visualize matrix $R$ with [seaborn.heatmap](https://seaborn.pydata.org/generated/seaborn.heatmap.html) function.\n",
    "\n",
    "* Identify 2 pairs of players with highest similarities (positive correlation) and 2 pairs with lowest similarity (negative correlation). Plot their shooting pattern. What do you observe?\n",
    "\n",
    "__PSTAT 234 (optional for 134)__: Perform hierarchical clustering with matrix $R$, and visualize the clustered matrix."
   ]
  },
  {
   "cell_type": "code",
   "execution_count": null,
   "metadata": {},
   "outputs": [],
   "source": [
    "R = np.corrcoef(X,rowvar=0)"
   ]
  },
  {
   "cell_type": "code",
   "execution_count": null,
   "metadata": {},
   "outputs": [],
   "source": [
    "seaborn.heatmap(R)"
   ]
  },
  {
   "cell_type": "code",
   "execution_count": null,
   "metadata": {},
   "outputs": [],
   "source": [
    "big = 0\n",
    "small = R[0][0]\n",
    "biggest = (0,0)\n",
    "smallest = (0,0)\n",
    "for i in range(len(R)):\n",
    "    for j in range(len(R[i])):\n",
    "        if(R[i][j] > big and i != j):\n",
    "            big = R[i][j]\n",
    "            biggest = (i,j)\n",
    "        if(R[i][j] < small and i != j):\n",
    "            small = R[i][j]\n",
    "            smallest = (i,j)"
   ]
  },
  {
   "cell_type": "markdown",
   "metadata": {},
   "source": [
    "These are the players with the highest correlation and the players with the lowest correlation that are not the same player."
   ]
  },
  {
   "cell_type": "code",
   "execution_count": null,
   "metadata": {},
   "outputs": [],
   "source": [
    "print(biggest)\n",
    "print(smallest)"
   ]
  },
  {
   "cell_type": "code",
   "execution_count": null,
   "metadata": {},
   "outputs": [],
   "source": [
    "print(big)\n",
    "print(small)"
   ]
  },
  {
   "cell_type": "markdown",
   "metadata": {},
   "source": [
    "Transposed X matrix for graphing purposes."
   ]
  },
  {
   "cell_type": "code",
   "execution_count": null,
   "metadata": {},
   "outputs": [],
   "source": [
    "X_T = X.transpose()"
   ]
  },
  {
   "cell_type": "code",
   "execution_count": null,
   "metadata": {},
   "outputs": [],
   "source": [
    "len(X_T)"
   ]
  },
  {
   "cell_type": "markdown",
   "metadata": {},
   "source": [
    "This is the shot chart of the players with the highest correlation."
   ]
  },
  {
   "cell_type": "code",
   "execution_count": null,
   "metadata": {},
   "outputs": [],
   "source": [
    "h.plot_shotchart(X_T[283], xedges, yedges)"
   ]
  },
  {
   "cell_type": "code",
   "execution_count": null,
   "metadata": {},
   "outputs": [],
   "source": [
    "h.plot_shotchart(X_T[235], xedges, yedges)"
   ]
  },
  {
   "cell_type": "markdown",
   "metadata": {},
   "source": [
    "The highest correlated players have almost identical shooting charts with both of them taking nearly 100% of their shots under the basket."
   ]
  },
  {
   "cell_type": "markdown",
   "metadata": {},
   "source": [
    "This is the shot chart of the least correlated players."
   ]
  },
  {
   "cell_type": "code",
   "execution_count": null,
   "metadata": {},
   "outputs": [],
   "source": [
    "h.plot_shotchart(X_T[23], xedges, yedges)"
   ]
  },
  {
   "cell_type": "code",
   "execution_count": null,
   "metadata": {},
   "outputs": [],
   "source": [
    "h.plot_shotchart(X_T[251], xedges, yedges)"
   ]
  },
  {
   "cell_type": "markdown",
   "metadata": {},
   "source": [
    "The shot charts for the least correlated players are vastly different. The first player takes most of his shots under the basket with a couple scattered in the close range. The second player takes mostly 3 pointers with a few shots inside the 3 point line."
   ]
  },
  {
   "cell_type": "markdown",
   "metadata": {},
   "source": [
    "## Problem 3\n",
    "\n",
    "__PSTAT 134 and 234__: How would you use the coefficients matrix $H$ from NMF  or the correlation matrix $R$ (computed above) to differentiate between types of players? Consider what the coefficients represent, and how you can use them to discriminate player types.\n",
    "\n",
    "Give your thought process, reasoning for your chosen method, and the results. Do they look reasonable? Do you expect any of the comparison to be similar to any of the [figures here](https://fastbreakdata.com/classifying-the-modern-nba-player-with-machine-learning-539da03bb824)? Why, or why not? Can you verify your intuition?"
   ]
  },
  {
   "cell_type": "markdown",
   "metadata": {},
   "source": [
    "I would use H to see which bases, court locations, are most important areas for each player. This can show me where on the court does the player excel at scoring. Seeing a player shoot most of his shots under the basket seems to indicate a center while a player that takes more shots on the free throw elbows will look to be a power forward. The shots on the sides of the 3 point line would seem to indicate wing players and shots at the top of the key will probably indicate a point guard."
   ]
  },
  {
   "cell_type": "markdown",
   "metadata": {},
   "source": [
    "I would use R to create different groups of players. These groups would be grouped based on their correlation or basically where they shoot the ball. Highly correlated players will be placed in the same cluster as each other."
   ]
  },
  {
   "cell_type": "markdown",
   "metadata": {},
   "source": [
    "I used the R correlation matrix to perform hierarchical clustering."
   ]
  },
  {
   "cell_type": "code",
   "execution_count": null,
   "metadata": {},
   "outputs": [],
   "source": [
    "from scipy.cluster.hierarchy import dendrogram, linkage\n",
    "from scipy.spatial.distance import pdist"
   ]
  },
  {
   "cell_type": "code",
   "execution_count": null,
   "metadata": {},
   "outputs": [],
   "source": [
    "Z = linkage(R,method='complete',metric='correlation') # why did we transpose X.test?"
   ]
  },
  {
   "cell_type": "code",
   "execution_count": null,
   "metadata": {},
   "outputs": [],
   "source": [
    "plt.title('Hierarchical Clustering Dendrogram (truncated)')\n",
    "plt.xlabel('sample index')\n",
    "plt.ylabel('distance')\n",
    "dendrogram(\n",
    "    Z,\n",
    "    leaf_rotation=90.,  # rotates the x axis labels\n",
    "    leaf_font_size=8.,  # font size for the x axis labels\n",
    ")\n",
    "plt.show()"
   ]
  },
  {
   "cell_type": "markdown",
   "metadata": {},
   "source": [
    "This groups players based off how similar they are. It creates 3 different groups. Maybe guards, wings and big men?"
   ]
  },
  {
   "cell_type": "markdown",
   "metadata": {},
   "source": [
    "I used the H coefficient matrix to perform hierarchical clustering."
   ]
  },
  {
   "cell_type": "code",
   "execution_count": null,
   "metadata": {},
   "outputs": [],
   "source": [
    "Zh = linkage(H,method='complete',metric='correlation') # why did we transpose X.test?"
   ]
  },
  {
   "cell_type": "code",
   "execution_count": null,
   "metadata": {},
   "outputs": [],
   "source": [
    "plt.title('Hierarchical Clustering Dendrogram (truncated)')\n",
    "plt.xlabel('sample index')\n",
    "plt.ylabel('distance')\n",
    "dendrogram(\n",
    "    Zh,\n",
    "    leaf_rotation=90.,  # rotates the x axis labels\n",
    "    leaf_font_size=8.,  # font size for the x axis labels\n",
    ")\n",
    "plt.show()"
   ]
  },
  {
   "cell_type": "markdown",
   "metadata": {},
   "source": [
    "This creates 4 groups probably something like pure inside scoring, less 3 point shooting and more inside scoring, more 3 point shooting and less inside scoring, and finally pure 3 point shooters. "
   ]
  },
  {
   "cell_type": "markdown",
   "metadata": {},
   "source": [
    "## Problem 4\n",
    "\n",
    "__PSTAT 134 and 234__: Suppose you are in charge of a basketball team. How would you use this information? How would you use what you have learned from analyzing the data, and what other questions would you like to answer with further analysis."
   ]
  },
  {
   "cell_type": "markdown",
   "metadata": {},
   "source": [
    "If I was in charge of a basketball team, I would use this information to figure out what types of players I already have on my team. Taking terms from the link given in Lab03, this will let me know if I have a 3 and D wing, a combo guard, defensive center, floor general, offensive center, scoring wing, shooting wing, or versatile forward. This will help me determine what kind of team I should build through free agency and the draft given the skils present in my current team. Using this information, I can also learn what my player's true specialties are. This way I can tailor a gameplan that revolves around our strengths. Let's say I have a really good 3 point shooter on my team. I can create plays that get him open to shoot 3's or use his prowess as a 3 point shooter to serve as a distraction. This can also discover hidden talents. Let's say I have a good 3 point shooting center that does not often take 3's. Seeing how good he is at shooting 3's might convince him to take more 3's. Other questions I would like to answer are more on the defensive end. I would like to see how good my players are at defense. Maybe they guard certain positions better than others. Then we can utilize their defensive skills on the right personnel. I would also like to know how fast of a pace my team plays at and what pace would be the best. If my team excels in transition opportunities I would implement a game plan that tells my players to run more and pick up a very good rebounder that can start the fast break easily. This analysis is very good for determining talent and seeing the potential of players.\n",
    "\n",
    "Personally if I can build a team completely from scratch, I would build a team that can defend many positions. My dream scenario would be: 1 superstar player who can score 1 on 1 at ease; 1 athletic defensive minded center who is good at setting screens, rebounding and shot blocking; 3 interchangeable players who are good at defense and can shoot 3's at a reasonable rate. These would be the starters. I would then would love a bench that can shoot well and will run a lot on the court, creating a very high pace, to exhaust the other team."
   ]
  }
 ],
 "metadata": {
  "language_info": {
   "name": "python",
   "pygments_lexer": "ipython3"
  }
 },
 "nbformat": 4,
 "nbformat_minor": 2
}
