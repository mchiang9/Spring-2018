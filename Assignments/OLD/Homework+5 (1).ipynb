{
 "cells": [
  {
   "cell_type": "markdown",
   "metadata": {},
   "source": [
    "## Homework 5"
   ]
  },
  {
   "cell_type": "code",
   "execution_count": 148,
   "metadata": {
    "collapsed": true
   },
   "outputs": [],
   "source": [
    "import numpy as np"
   ]
  },
  {
   "cell_type": "markdown",
   "metadata": {},
   "source": [
    "**1. (5 points) Suppose that X and N are jointly distributed with joint density function f (x, n) defined up to a constant of proportionality\n",
    "$$f(x,n)∝ \\frac{{e^{-4x}x^n}}{{n!}} ; n∈N, x>0.$$\n",
    "Use a Gibbs sampling to estimate E[X] and Var(X). Compare with the theoretical values.\n",
    "**"
   ]
  },
  {
   "cell_type": "code",
   "execution_count": 153,
   "metadata": {},
   "outputs": [
    {
     "name": "stdout",
     "output_type": "stream",
     "text": [
      "The estimated expected value of X is:\n",
      "0.5806128217803831\n",
      "This is very similar to the theoretical mean of 7/12.\n",
      "The estimated variance of X is:\n",
      "0.17481501579535547\n",
      "This is very similar the the theoretical variance of 25/144.\n"
     ]
    }
   ],
   "source": [
    "trials = 10000\n",
    "def gibb_Accept(x):\n",
    "    k = 1\n",
    "    t = np.exp(-x)/(1-np.exp(-x))*x\n",
    "    s = t\n",
    "    u = np.random.random(1)\n",
    "    while (s<u):\n",
    "        k += 1\n",
    "        t = t*x/k\n",
    "        s += t\n",
    "    return k\n",
    "\n",
    "def gibb(x,n,k):\n",
    "    x = np.random.gamma(shape = (n+1),scale = 1/4)\n",
    "    n = gibb_Accept(x)\n",
    "    return (x,n)\n",
    "\n",
    "x = .5\n",
    "n = 1.0\n",
    "\n",
    "x_means = 0\n",
    "n_means = 0\n",
    "a = []\n",
    "\n",
    "for i in range(trials):\n",
    "    [x,n] = gibb(x,n,i)\n",
    "    x_means += x\n",
    "    a.append(x)\n",
    "    \n",
    "print(\"The estimated expected value of X is:\\n{}\\nThis is very similar to the theoretical mean of 7/12.\".format(np.mean(a)))\n",
    "print(\"The estimated variance of X is:\\n{}\\nThis is very similar the the theoretical variance of 25/144.\".format(np.var(a)))"
   ]
  },
  {
   "cell_type": "markdown",
   "metadata": {},
   "source": [
    "**2. (5 points) Suppose that X is a mixture of normal random variables with the density function, defined up to proportionality\n",
    "$$f(x)∝e^{{−(x−1)}^2/2} +e^{{−(x+1)}^2/2};  0<x<10.$$\n",
    "Use a Metropolis-Hastings algorithm to estimate E[X ] and Var(X ) .**"
   ]
  },
  {
   "cell_type": "code",
   "execution_count": 154,
   "metadata": {},
   "outputs": [
    {
     "name": "stdout",
     "output_type": "stream",
     "text": [
      "The estimated expected value of X is:\n",
      "1.1763869565905318.\n",
      "The estimated variance of X is:\n",
      "0.7527126986801215.\n"
     ]
    }
   ],
   "source": [
    "def f(x):\n",
    "    if(x>10 or x < 0):\n",
    "        return 0\n",
    "    else:\n",
    "        return np.exp(-(x-1)**2/2)+np.exp(-(x+1)**2/2)\n",
    "\n",
    "s = 9\n",
    "l = []\n",
    "\n",
    "def mh(s):\n",
    "    if(s > 0 and s < 10):\n",
    "        y = np.random.uniform(s-1,s+1)\n",
    "        a = f(y)/f(s)\n",
    "        if(a >= 1):\n",
    "            return y\n",
    "        else:\n",
    "            u = np.random.uniform(0,1)\n",
    "            if(u <= a):\n",
    "                return y\n",
    "            else:\n",
    "                return s\n",
    "#     elif(s <= 0):\n",
    "#         return s+1\n",
    "#     else:\n",
    "#         return s-1\n",
    "            \n",
    "\n",
    "for i in range(trials):\n",
    "    s = mh(s)\n",
    "    l.append(s)\n",
    "    \n",
    "print(\"The estimated expected value of X is:\\n{}.\".format(np.mean(l)))\n",
    "print(\"The estimated variance of X is:\\n{}.\".format(np.var(l)))\n"
   ]
  },
  {
   "cell_type": "code",
   "execution_count": null,
   "metadata": {
    "collapsed": true
   },
   "outputs": [],
   "source": []
  }
 ],
 "metadata": {
  "kernelspec": {
   "display_name": "Python 3",
   "language": "python",
   "name": "python3"
  },
  "language_info": {
   "codemirror_mode": {
    "name": "ipython",
    "version": 3
   },
   "file_extension": ".py",
   "mimetype": "text/x-python",
   "name": "python",
   "nbconvert_exporter": "python",
   "pygments_lexer": "ipython3",
   "version": "3.6.5"
  }
 },
 "nbformat": 4,
 "nbformat_minor": 2
}
