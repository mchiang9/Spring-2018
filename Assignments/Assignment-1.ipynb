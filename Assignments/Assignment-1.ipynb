{
 "cells": [
  {
   "cell_type": "markdown",
   "metadata": {},
   "source": [
    "# Assignment 1 - Statistical Simulation\n",
    "\n",
    "__Due date: April 12, 2018 by 10 pm__   \n",
    "__Submision: Jupyter notebook file through GauchoSpace__   \n",
    "__Late submission policy: Within 24 hours with 10% penalty. Not accepted after 24 hours__  \n",
    "__Note: This is an individual assignment__\n",
    "\n",
    "You will create a simulation. The goal is to empirically verify one statistics or probability concept or theorem. In doing so, you will use numpy arrays, sampling from various distributions, etc.\n",
    "\n",
    "State your assumptions and choices you make in your simulation setting. Describe what you are simulating as if you were explaining the statistical result to someone with computing background, but basic probability and statistics.\n",
    "\n",
    "If you are unclear what to do, pick a theorem, and show that it is correct empirically. Show all the claims is right in a probabilistic sense. Note that asymptotic results are theoretical results that you cannot unequivocally show in a simulation setting: i.e., $n\\rightarrow\\infty$.\n",
    "\n",
    "Communicate your goal, process, and results clearly into a Jupyter notebook.\n",
    "\n",
    "Guidelines:\n",
    "\n",
    "- Make sure running your notebook takes no more than 2 minutes to complete\n",
    "- Focus on explaining the concepts, coding legibly, and completeness\n",
    "- We will run your code from top to bottom. Make sure it runs to completion without errors on https://jupyterhub.lsit.ucsb.edu\n",
    "\n",
    "### Book resource\n",
    "\n",
    "An excellent resource is a book titled [Simulation by Sheldon Ross](https://ucsb-primo.hosted.exlibrisgroup.com/primo-explore/fulldisplay?docid=01UCSB_ALMA51283278820003776&context=L&vid=UCSB&search_scope=default_scope&isFrbr=true&tab=default_tab&lang=en_US). Relevant materials are in Chapters 8 - 12.\n",
    "\n",
    "### 234 students\n",
    "\n",
    "The sky is the limit! You are free to simulate some probabilistic or statistical models what you find fun and exciting: Markov chains, goodness-of-fit-tests, etc.\n",
    "\n",
    "### 134 students\n",
    "\n",
    "Here are some ideas if there aren't other simulations you would like to pursue.\n",
    "\n",
    "#### Confidence intervals\n",
    "\n",
    "Simulate random observations from a selected distribution and compute the mean and variance estimates. Compare to the theoretical confidence results: i.e., the conclusion should be comparing the number of times the confidence bound is breached as compared to confidence $1-\\alpha$.\n",
    "\n",
    "#### Hypothesis testing\n",
    "\n",
    "Select a null distribution. Then select an alternate truth that is different than the null. Sample from the alternate distribution, and, for a test statistic of your choosing, test various hypotheses. Compute the theoretical and empirical type I and II errors. Compare your results.\n",
    "\n",
    "#### Likelihood ratio test\n",
    "\n",
    "From WMS (120B textbook):\n",
    "\n",
    "> __Theorem 10.2__: Let $Y_1, Y_2, \\dots, Y_n$ have a joint likelihood function $L(\\Theta)$. Let $r_0$ denote the number of free parameters that are specified by $H_0:\\Theta\\in\\Omega_0$ and let $r$ denote the number of free parameters specified by the statement $\\Theta\\in\\Omega_0$. Then, for large n, $-2\\ln(\\lambda)$ has approximately a $\\chi^2$ distribution with $r_0-r$ degrees of freedom\n",
    "\n",
    "where \n",
    "\n",
    "> $\\lambda$ is defined by $$\\lambda = \\frac{L(\\hat\\Omega_0)}{L(\\hat\\Omega)} = \\frac{\\max_{\\Theta\\in{\\Omega_0}}L(\\Theta)}{\\max_{\\Theta\\in{\\Omega}}L(\\Theta)}$$"
   ]
  },
  {
   "cell_type": "markdown",
   "metadata": {},
   "source": [
    "## Metropolis Hastings"
   ]
  },
  {
   "cell_type": "markdown",
   "metadata": {},
   "source": [
    "**Based off Simulation by Sheldon Ross Chapter 12.2 Metropolis Hastings**\n",
    "\n",
    "**Suppose that X is a mixture of normal random variables with the density function, defined up to proportionality\n",
    "$$f(x)∝e^{{−(x−1)}^2/2} +e^{{−(x+1)}^2/2};  0<x<10.$$\n",
    "Use a Metropolis-Hastings algorithm to estimate E[X] and Var(X ). Compare with theoretical values**"
   ]
  },
  {
   "cell_type": "markdown",
   "metadata": {},
   "source": [
    "Find Theoretical E[X] and Var[X]"
   ]
  },
  {
   "cell_type": "markdown",
   "metadata": {},
   "source": [
    "Find $\\alpha$ first:\n",
    "$$\\alpha = {\\int_{0}^{10} e^{{−(x−1)}^2/2} +e^{{−(x+1)}^2/2} dx}^{-1}$$\n",
    "$$\\alpha = 0.3989422804$$"
   ]
  },
  {
   "cell_type": "markdown",
   "metadata": {},
   "source": [
    "$$E[X] = \\int_{0}^{\\infty}xf(x)dx$$\n",
    "$$E[X] = \\int_{0}^{10} x \\cdot 3989422804(e^{{−(x−1)}^2/2} +e^{{−(x+1)}^2/2}) dx$$\n",
    "$$E[X] = 1.166630941171182$$"
   ]
  },
  {
   "cell_type": "markdown",
   "metadata": {},
   "source": [
    "\n",
    "$$E[X^2] = \\int_{0}^{10} x^2 \\cdot 3989422804(e^{{−(x−1)}^2/2} +e^{{−(x+1)}^2/2}) dx$$\n",
    "$$E[X^2] = 1.999999999992816$$\n",
    "$$E[X]^2 = 1.166630941171182^2 = 1.3610277529$$"
   ]
  },
  {
   "cell_type": "markdown",
   "metadata": {},
   "source": [
    "$$Var[X] = E[X^2] - E[X]^2$$\n",
    "$$Var[X] = 1.999999999992816 - 1.3610277529$$\n",
    "$$Var[X] = 0.63897224709$$"
   ]
  },
  {
   "cell_type": "markdown",
   "metadata": {},
   "source": [
    "Theoretical Values:\n",
    "$$E[X] = 1.166630941171182$$\n",
    "            \n",
    "$$Var[X] = 0.63897224709$$"
   ]
  },
  {
   "cell_type": "code",
   "execution_count": 10,
   "metadata": {},
   "outputs": [],
   "source": [
    "import numpy as np\n",
    "import matplotlib.pyplot as plt"
   ]
  },
  {
   "cell_type": "code",
   "execution_count": 11,
   "metadata": {},
   "outputs": [
    {
     "name": "stdout",
     "output_type": "stream",
     "text": [
      "The estimated expected value of X is:\n",
      "1.1773381493288466, which is very similar to the theoretical value of 1.166630941171182.\n",
      "The estimated variance of X is:\n",
      "0.6437055674342484, which is very similar to the theoretical value of 0.63897224709\n"
     ]
    }
   ],
   "source": [
    "trials = 10000\n",
    "def f(x):\n",
    "    if(x>10 or x < 0):\n",
    "        return 0\n",
    "    else:\n",
    "        return np.exp(-(x-1)**2/2)+np.exp(-(x+1)**2/2)\n",
    "\n",
    "s = 2\n",
    "l = []\n",
    "\n",
    "def mh(s):\n",
    "    if(s > 0 and s < 10):\n",
    "        y = np.random.uniform(s-1,s+1)\n",
    "        a = f(y)/f(s)\n",
    "        if(a >= 1):\n",
    "            return y\n",
    "        else:\n",
    "            u = np.random.uniform(0,1)\n",
    "            if(u <= a):\n",
    "                return y\n",
    "            else:\n",
    "                return s\n",
    "            \n",
    "\n",
    "for i in range(trials):\n",
    "    s = mh(s)\n",
    "    l.append(s)\n",
    "    \n",
    "print(\"The estimated expected value of X is:\\n{}, which is very similar to the theoretical value of 1.166630941171182.\".format(np.mean(l)))\n",
    "print(\"The estimated variance of X is:\\n{}, which is very similar to the theoretical value of 0.63897224709\".format(np.var(l)))"
   ]
  },
  {
   "cell_type": "code",
   "execution_count": 12,
   "metadata": {},
   "outputs": [
    {
     "data": {
      "image/png": "[encoded data removed]",
      "text/plain": [
       "<Figure size 432x288 with 1 Axes>"
      ]
     },
     "metadata": {},
     "output_type": "display_data"
    }
   ],
   "source": [
    "plt.plot(l)\n",
    "plt.xlabel(\"Trials\")\n",
    "plt.ylabel(\"Estimate\")\n",
    "plt.title(\"Metropolis Hastings\")\n",
    "plt.show()"
   ]
  },
  {
   "cell_type": "code",
   "execution_count": null,
   "metadata": {},
   "outputs": [],
   "source": []
  }
 ],
 "metadata": {
  "kernelspec": {
   "display_name": "Python 3",
   "language": "python",
   "name": "python3"
  },
  "language_info": {
   "codemirror_mode": {
    "name": "ipython",
    "version": 3
   },
   "file_extension": ".py",
   "mimetype": "text/x-python",
   "name": "python",
   "nbconvert_exporter": "python",
   "pygments_lexer": "ipython3",
   "version": "3.6.5"
  }
 },
 "nbformat": 4,
 "nbformat_minor": 2
}
