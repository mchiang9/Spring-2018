{
 "cells": [
  {
   "cell_type": "markdown",
   "metadata": {},
   "source": [
    "# Pandas Analysis\n",
    "\n",
    "Pandas package implements functionalities like data frames in R. There are many similarities but also differences. We will go over some differences in the context of working with the basketball data.\n",
    "\n",
    "Obtaining data from NBA can be done using the function developed previously."
   ]
  },
  {
   "cell_type": "code",
   "execution_count": null,
   "metadata": {},
   "outputs": [],
   "source": [
    "import pandas as pd\n",
    "\n",
    "def get_nba_data(endpt, params, return_url=False):\n",
    "\n",
    "    ## endpt: https://github.com/seemethere/nba_py/wiki/stats.nba.com-Endpoint-Documentation\n",
    "    ## params: dictionary of parameters: i.e., {'LeagueID':'00'}\n",
    "    \n",
    "    from pandas import DataFrame\n",
    "    from urllib.parse import urlencode\n",
    "    import json\n",
    "    \n",
    "    useragent = \"\\\"Mozilla/5.0 (Macintosh; Intel Mac OS X 10_11_2) AppleWebKit/601.3.9 (KHTML, like Gecko) Version/9.0.2 Safari/601.3.9\\\"\"\n",
    "    dataurl = \"\\\"\" + \"http://stats.nba.com/stats/\" + endpt + \"?\" + urlencode(params) + \"\\\"\"\n",
    "    \n",
    "    # for debugging: just return the url\n",
    "    if return_url:\n",
    "        return(dataurl)\n",
    "    \n",
    "    jsonstr = !wget -q -O - --user-agent={useragent} {dataurl}\n",
    "    \n",
    "    data = json.loads(jsonstr[0])\n",
    "    \n",
    "    h = data['resultSets'][0]['headers']\n",
    "    d = data['resultSets'][0]['rowSet']\n",
    "    \n",
    "    return(DataFrame(d, columns=h))"
   ]
  },
  {
   "cell_type": "markdown",
   "metadata": {},
   "source": [
    "Using the function, we can get data about teams and players"
   ]
  },
  {
   "cell_type": "code",
   "execution_count": null,
   "metadata": {},
   "outputs": [],
   "source": [
    "## get all teams\n",
    "params = {'LeagueID':'00'}\n",
    "teams = get_nba_data('commonTeamYears', params)\n",
    "\n",
    "## get all players\n",
    "params = {'LeagueID':'00', 'Season': '2016-17', 'IsOnlyCurrentSeason': '0'}\n",
    "players = get_nba_data('commonallplayers', params)"
   ]
  },
  {
   "cell_type": "markdown",
   "metadata": {},
   "source": [
    "## Programming style\n",
    "\n",
    "Programming language is really like a language, and you will get better with practice. It is good to think about good programming style and better way to do the same thing. By better, I mean more readable, concise, efficient (computationally), etc.\n",
    "\n",
    "For example, there are guides and articles such as these:\n",
    "- http://docs.python-guide.org/en/latest/writing/style/#short-ways-to-manipulate-lists\n",
    "- https://google.github.io/styleguide/pyguide.html?showone=List_Comprehensions#List_Comprehensions\n",
    "- https://google.github.io/styleguide/pyguide.html?showone=Naming#Naming\n",
    "- https://www.python.org/dev/peps/pep-0008/"
   ]
  },
  {
   "cell_type": "code",
   "execution_count": null,
   "metadata": {},
   "outputs": [],
   "source": [
    "# import this"
   ]
  },
  {
   "cell_type": "markdown",
   "metadata": {},
   "source": [
    "Above easter egg is from Zen of Python: https://www.python.org/dev/peps/pep-0020/. \n",
    "\n",
    "- https://www.quora.com/What-do-different-aphorisms-in-The-Zen-of-Python-mean \n",
    "- 20th aphorism?:https://www.reddit.com/r/Python/comments/3cjhlo/this_disobeys_the_zen_of_python/"
   ]
  },
  {
   "cell_type": "markdown",
   "metadata": {},
   "source": [
    "# Pandas\n",
    "\n",
    "Pandas has an extensive set of functions. Refer to [Chapter 3 in PDSH](https://jakevdp.github.io/PythonDataScienceHandbook/03.00-introduction-to-pandas.html) and the [official website](https://pandas.pydata.org). Latest stable release documentation is here: [http://pandas.pydata.org/pandas-docs/stable/api.html](http://pandas.pydata.org/pandas-docs/stable/api.html).\n",
    "\n",
    "## Pandas Series \n",
    "\n",
    "The section on `Series` is here: http://pandas.pydata.org/pandas-docs/stable/api.html#series. These are available by placing a dot after the object.\n",
    "\n",
    "### Data frames are made of Series\n",
    "Pandas data frames are different objects:"
   ]
  },
  {
   "cell_type": "code",
   "execution_count": null,
   "metadata": {},
   "outputs": [],
   "source": [
    "print(\"data frame object :\", type(teams))\n",
    "print(\"data row object   :\", type(teams.iloc[0]))\n",
    "print(\"data column object:\", type(teams.ABBREVIATION))"
   ]
  },
  {
   "cell_type": "markdown",
   "metadata": {},
   "source": [
    "Note that rows as well as columns of pandas data frame are `Series` objects. (In R, rows would be a smaller data frame.)\n",
    "\n",
    "There are categories of functions that are applicable to certain object types:\n",
    "\n",
    "- Pandas general functions: http://pandas.pydata.org/pandas-docs/stable/api.html#general-functions   \n",
    "    e.g., [`pandas.melt()`](http://pandas.pydata.org/pandas-docs/stable/generated/pandas.melt.html#pandas-melt) take `DataFrame` as input. \n",
    "- Series methods: http://pandas.pydata.org/pandas-docs/stable/api.html#series\n",
    "- DataFrame methods: http://pandas.pydata.org/pandas-docs/stable/api.html#dataframe\n",
    "\n",
    "### Pandas (often) shows you views\n",
    "\n",
    "Recall that python objects are often _views_ of the same instance in memory space. Following says these are the same objects in memory:"
   ]
  },
  {
   "cell_type": "code",
   "execution_count": null,
   "metadata": {},
   "outputs": [],
   "source": [
    "temp = teams\n",
    "print(id(temp) == id(teams))"
   ]
  },
  {
   "cell_type": "markdown",
   "metadata": {},
   "source": [
    "So, if you change one, you see the change in the other:"
   ]
  },
  {
   "cell_type": "code",
<<<<<<< HEAD
   "execution_count": 6,
   "metadata": {},
   "outputs": [
    {
     "name": "stdout",
     "output_type": "stream",
     "text": [
      "id of s1: 140595341936176\n",
      "id of s2: 140595341936176\n",
      "s1 is s2: True\n"
     ]
    }
   ],
=======
   "execution_count": null,
   "metadata": {},
   "outputs": [],
>>>>>>> 125e1ef3db6fd6d4ac501edac41699b44213d580
   "source": [
    "s1 = pd.Series([0.25, 0.5, 0.75, 1.0], index=['a', 'b', 'c', 'd'])\n",
    "s2 = s1\n",
    "print(\"id of s1:\", id(s1))\n",
    "print(\"id of s2:\", id(s2))\n",
    "print(\"s1 is s2:\", s1 is s2)"
   ]
  },
  {
   "cell_type": "code",
   "execution_count": null,
   "metadata": {},
   "outputs": [],
   "source": [
    "s1[0] = 10000\n",
    "\n",
    "print(\"s1 changed:\", s1[0])\n",
    "print(\"s2 also   :\", s2[0])\n",
    "#print(\"s1 is s2:\", s1[0] is s2[0])"
   ]
  },
  {
   "cell_type": "markdown",
   "metadata": {},
   "source": [
    "Needs to be copied in order to make an independent variable."
   ]
  },
  {
   "cell_type": "code",
   "execution_count": null,
   "metadata": {},
   "outputs": [],
   "source": [
    "abbr = teams.ABBREVIATION.copy()\n",
    "abbr is teams.ABBREVIATION"
   ]
  },
  {
   "cell_type": "markdown",
   "metadata": {},
   "source": [
    "### Indexing\n",
    "\n",
    "There are many different ways to index `Series` and `DataFrames` in pandas: https://pandas.pydata.org/pandas-docs/stable/indexing.html#different-choices-for-indexing.\n",
    "\n",
    "- `.loc` is primarily for using labels and booleans: e.g., column and row indices, comparison operators, etc\n",
    "- `.iloc` is primarily for using integer positions: i.e., like you would matrices"
   ]
  },
  {
   "cell_type": "code",
   "execution_count": null,
   "metadata": {},
   "outputs": [],
   "source": [
    "abbr"
   ]
  },
  {
   "cell_type": "code",
   "execution_count": null,
   "metadata": {},
   "outputs": [],
   "source": [
    "dict(abbr.head().items())"
   ]
  },
  {
   "cell_type": "markdown",
   "metadata": {},
   "source": [
    "### Series as lists"
   ]
  },
  {
   "cell_type": "code",
   "execution_count": null,
   "metadata": {},
   "outputs": [],
   "source": [
    "list(abbr.head().items())"
   ]
  },
  {
   "cell_type": "code",
   "execution_count": null,
   "metadata": {},
   "outputs": [],
   "source": [
    "abbr.keys()"
   ]
  },
  {
   "cell_type": "markdown",
   "metadata": {},
   "source": [
    "There are many more useful functions and properties. Refer to [Chapter 3 in PDSH](https://jakevdp.github.io/PythonDataScienceHandbook/03.00-introduction-to-pandas.html). Latest stable release documentation is here: [http://pandas.pydata.org/pandas-docs/stable/api.html](http://pandas.pydata.org/pandas-docs/stable/api.html).\n",
    "\n",
    "The section on `Series` is here: http://pandas.pydata.org/pandas-docs/stable/api.html#series. These are available by placing a dot after the object."
   ]
  },
  {
   "cell_type": "code",
   "execution_count": null,
   "metadata": {},
   "outputs": [],
   "source": [
    "abbr.unique()"
   ]
  },
  {
   "cell_type": "markdown",
   "metadata": {},
   "source": [
    "A convenient method function is [`str`](http://pandas.pydata.org/pandas-docs/stable/api.html#string-handling). This allows functions to be applied to each value as strings separately. For example, we can search for patterns. For example, we can search for teams that end with letter `S`: "
   ]
  },
  {
   "cell_type": "code",
   "execution_count": null,
   "metadata": {},
   "outputs": [],
   "source": [
    "abbr.str.contains('S$')"
   ]
  },
  {
   "cell_type": "markdown",
   "metadata": {},
   "source": [
    "__Exercise__: how would you use this to pick out team names that end with S? Can you use the resulting boolean `Series`?"
   ]
  },
  {
   "cell_type": "code",
   "execution_count": null,
   "metadata": {},
   "outputs": [],
   "source": [
    "## abbr.loc[abbr.str.contains('S$')] ## what is the problem?"
   ]
  },
  {
   "cell_type": "markdown",
   "metadata": {},
   "source": [
    "__Exercise__: what is `dir()` function?"
   ]
  },
  {
   "cell_type": "code",
   "execution_count": null,
   "metadata": {},
   "outputs": [],
   "source": [
    "## dir(abbr)"
   ]
  },
  {
   "cell_type": "markdown",
   "metadata": {},
   "source": [
    "## Data Frames\n"
   ]
  },
  {
   "cell_type": "markdown",
   "metadata": {},
   "source": [
    "### Getting columns\n",
    "\n",
    "Following ways to call columns are equivalent. The *dot notation* is easier to read."
   ]
  },
  {
   "cell_type": "code",
   "execution_count": null,
   "metadata": {},
   "outputs": [],
   "source": [
    "temp = teams.copy()\n",
    "\n",
    "print(temp['MIN_YEAR'].head())\n",
    "print(temp.MIN_YEAR.head())"
   ]
  },
  {
   "cell_type": "markdown",
   "metadata": {},
   "source": [
    "### Setting columns\n",
    "\n",
    "Note that you cannot set a new column with a dot notation. Consider the following:"
   ]
  },
  {
   "cell_type": "code",
   "execution_count": null,
   "metadata": {},
   "outputs": [],
   "source": [
    "temp['new_column_1'] = temp.MAX_YEAR\n",
    "temp.new_column_2 = temp.MAX_YEAR\n",
    "temp.head()"
   ]
  },
  {
   "cell_type": "markdown",
   "metadata": {},
   "source": [
    "However, you can set an existing column with dot notation."
   ]
  },
  {
   "cell_type": "code",
   "execution_count": null,
   "metadata": {},
   "outputs": [],
   "source": [
    "temp.LEAGUE_ID = 'ZZ'\n",
    "temp.head()"
   ]
  },
  {
   "cell_type": "markdown",
   "metadata": {},
   "source": [
    "### Data Frame, Series, dtype\n",
    "\n",
    "This is different than R data frame in that columns in R data frames have their data types: e.g., `factor`, `integer`, `numeric`, etc. Pandas data frame columns are *all* `Series` with different dtypes. With column types not specified, everything is of dtype `object`:"
   ]
  },
  {
   "cell_type": "code",
   "execution_count": null,
   "metadata": {},
   "outputs": [],
   "source": [
    "print(teams.ABBREVIATION.dtype)"
   ]
  },
  {
   "cell_type": "code",
   "execution_count": null,
   "metadata": {},
   "outputs": [],
   "source": [
    "teams.ABBREVIATION = teams.ABBREVIATION.astype('category')\n",
    "teams.TEAM_ID      = teams.TEAM_ID.astype('category')\n",
    "teams.MIN_YEAR     = teams.MIN_YEAR.astype('int')\n",
    "teams.MAX_YEAR     = teams.MAX_YEAR.astype('int')"
   ]
  },
  {
   "cell_type": "markdown",
   "metadata": {},
   "source": [
    "Note that `object` is a general term"
   ]
  },
  {
   "cell_type": "code",
   "execution_count": null,
   "metadata": {},
   "outputs": [],
   "source": [
    "print(type(teams.iloc[0]))\n",
    "print(teams.iloc[0])"
   ]
  },
  {
   "cell_type": "markdown",
   "metadata": {},
   "source": [
    "### Condition based slicing\n",
    "\n",
    "Subset just the current teams"
   ]
  },
  {
   "cell_type": "code",
   "execution_count": null,
   "metadata": {},
   "outputs": [],
   "source": [
    "teams = teams[teams.MAX_YEAR == 2017]\n",
    "teams['TEAM_AGE'] = teams.MAX_YEAR - teams.MIN_YEAR\n",
    "\n",
    "teams_clean = teams.copy() ## make a copy for later\n",
    "teams"
   ]
  },
  {
   "cell_type": "markdown",
   "metadata": {},
   "source": [
    "Note the following indexing"
   ]
  },
  {
   "cell_type": "code",
   "execution_count": null,
   "metadata": {},
   "outputs": [],
   "source": [
    "print('*** indexing with .iloc:\\n', teams.iloc[1])\n",
    "print('\\n*** indexing with .loc :\\n', teams.loc[14])"
   ]
  },
  {
   "cell_type": "markdown",
   "metadata": {},
   "source": [
    "Subset just the players in current teams:"
   ]
  },
  {
   "cell_type": "code",
   "execution_count": null,
   "metadata": {},
   "outputs": [],
   "source": [
    "players = players[players.TEAM_ID.isin(teams.TEAM_ID)]\n",
    "players.tail()"
   ]
  },
  {
   "cell_type": "markdown",
   "metadata": {},
   "source": [
    "List players groupped by teams:"
   ]
  },
  {
   "cell_type": "code",
<<<<<<< HEAD
   "execution_count": 26,
   "metadata": {},
   "outputs": [
    {
     "data": {
      "text/plain": [
       "<pandas.core.groupby.DataFrameGroupBy object at 0x7fdee7697550>"
      ]
     },
     "execution_count": 26,
     "metadata": {},
     "output_type": "execute_result"
    }
   ],
=======
   "execution_count": null,
   "metadata": {},
   "outputs": [],
>>>>>>> 125e1ef3db6fd6d4ac501edac41699b44213d580
   "source": [
    "players.groupby('TEAM_CODE')"
   ]
  },
  {
   "cell_type": "markdown",
   "metadata": {},
   "source": [
    "Above is called an iterable. You can iterate on the object to see the _views_."
   ]
  },
  {
   "cell_type": "code",
   "execution_count": null,
   "metadata": {},
   "outputs": [],
   "source": [
    "for t, p in players.groupby('TEAM_NAME'):\n",
    "    print(\"***\", t)\n",
    "    print('; '.join(p.DISPLAY_LAST_COMMA_FIRST.values), '\\n')"
   ]
  },
  {
   "cell_type": "markdown",
   "metadata": {},
   "source": [
    "### Merging data frames\n",
    "\n",
    "First we can create a table of unique rows with full team names"
   ]
  },
  {
   "cell_type": "code",
   "execution_count": null,
   "metadata": {},
   "outputs": [],
   "source": [
    "team_names = players[['TEAM_ABBREVIATION', 'TEAM_CODE']].drop_duplicates()#.set_index('TEAM_ABBREVIATION')\n",
    "team_names.head()"
   ]
  },
  {
   "cell_type": "markdown",
   "metadata": {},
   "source": [
    "We have team codes (names) as a new column."
   ]
  },
  {
   "cell_type": "code",
   "execution_count": null,
   "metadata": {},
   "outputs": [],
   "source": [
    "teams_clean.head()"
   ]
  },
  {
   "cell_type": "code",
   "execution_count": null,
   "metadata": {},
   "outputs": [],
   "source": [
    "teams = pd.merge(teams_clean, team_names, left_on='ABBREVIATION', right_on='TEAM_ABBREVIATION')\n",
    "teams.tail()"
   ]
  },
  {
   "cell_type": "markdown",
   "metadata": {},
   "source": [
    "We can apply `str` method:"
   ]
  },
  {
   "cell_type": "code",
   "execution_count": null,
   "metadata": {},
   "outputs": [],
   "source": [
    "teams.TEAM_CODE = teams.TEAM_CODE.str.capitalize() # returns values so needs to be reassigned\n",
    "teams.sort_values('ABBREVIATION', inplace=True)    # modifies object\n",
    "teams.tail()"
   ]
  },
  {
   "cell_type": "code",
   "execution_count": null,
   "metadata": {},
   "outputs": [],
   "source": [
    "players.head()"
   ]
  },
  {
   "cell_type": "markdown",
   "metadata": {},
   "source": [
    "## Interaction with Widgets\n",
    "\n",
    "One of the advantages of Jupyter notebooks is that it is browser-based. Browsers are highly interactive, and we can also interact with the data by using interactive widgets IPython provides.\n",
    "\n",
    "We will digress a little bit, and talk about widgets. Widgets take user input by waiting for some action. We can create a simple slider to select some number:"
   ]
  },
  {
   "cell_type": "code",
<<<<<<< HEAD
   "execution_count": 33,
   "metadata": {},
   "outputs": [
    {
     "data": {
      "application/vnd.jupyter.widget-view+json": {
       "model_id": "4932ac5bc8324f7ca2fe6eef2e42c62b",
       "version_major": 2,
       "version_minor": 0
      },
      "text/html": [
       "<p>Failed to display Jupyter Widget of type <code>interactive</code>.</p>\n",
       "<p>\n",
       "  If you're reading this message in the Jupyter Notebook or JupyterLab Notebook, it may mean\n",
       "  that the widgets JavaScript is still loading. If this message persists, it\n",
       "  likely means that the widgets JavaScript library is either not installed or\n",
       "  not enabled. See the <a href=\"https://ipywidgets.readthedocs.io/en/stable/user_install.html\">Jupyter\n",
       "  Widgets Documentation</a> for setup instructions.\n",
       "</p>\n",
       "<p>\n",
       "  If you're reading this message in another frontend (for example, a static\n",
       "  rendering on GitHub or <a href=\"https://nbviewer.jupyter.org/\">NBViewer</a>),\n",
       "  it may mean that your frontend doesn't currently support widgets.\n",
       "</p>\n"
      ],
      "text/plain": [
       "interactive(children=(FloatSlider(value=0.0, description='x', max=10.0, step=0.05), Output()), _dom_classes=('widget-interact',))"
      ]
     },
     "metadata": {},
     "output_type": "display_data"
    }
   ],
=======
   "execution_count": null,
   "metadata": {},
   "outputs": [],
>>>>>>> 125e1ef3db6fd6d4ac501edac41699b44213d580
   "source": [
    "from ipywidgets import interact, FloatSlider, Dropdown, Button\n",
    "\n",
    "def selected_val(x):\n",
    "    print('Selected value is', x)\n",
    "\n",
    "xslider = FloatSlider(min=0.0, max=10.0, step=0.05)\n",
    "interact(selected_val, x=xslider);"
   ]
  },
  {
   "cell_type": "code",
<<<<<<< HEAD
   "execution_count": 34,
   "metadata": {},
   "outputs": [
    {
     "data": {
      "application/vnd.jupyter.widget-view+json": {
       "model_id": "4bb8a42755a2411e9740d43ca06e49e4",
       "version_major": 2,
       "version_minor": 0
      },
      "text/html": [
       "<p>Failed to display Jupyter Widget of type <code>interactive</code>.</p>\n",
       "<p>\n",
       "  If you're reading this message in the Jupyter Notebook or JupyterLab Notebook, it may mean\n",
       "  that the widgets JavaScript is still loading. If this message persists, it\n",
       "  likely means that the widgets JavaScript library is either not installed or\n",
       "  not enabled. See the <a href=\"https://ipywidgets.readthedocs.io/en/stable/user_install.html\">Jupyter\n",
       "  Widgets Documentation</a> for setup instructions.\n",
       "</p>\n",
       "<p>\n",
       "  If you're reading this message in another frontend (for example, a static\n",
       "  rendering on GitHub or <a href=\"https://nbviewer.jupyter.org/\">NBViewer</a>),\n",
       "  it may mean that your frontend doesn't currently support widgets.\n",
       "</p>\n"
      ],
      "text/plain": [
       "interactive(children=(Dropdown(description='x', options={'Galileo': 10, 'Brahe': 11, 'Hubble': 12}, value=10), Dropdown(description='y', options={'Apple': 345, 'Orange': 234, 'Banana': 123}, value=345), Output()), _dom_classes=('widget-interact',))"
      ]
     },
     "metadata": {},
     "output_type": "display_data"
    }
   ],
=======
   "execution_count": null,
   "metadata": {},
   "outputs": [],
>>>>>>> 125e1ef3db6fd6d4ac501edac41699b44213d580
   "source": [
    "def f(x, y):\n",
    "    print(x, y)\n",
    "    \n",
    "drop1 = {'Galileo': 10, 'Brahe': 11, 'Hubble': 12}\n",
    "drop2 = {'Apple': 345, 'Orange': 234, 'Banana': 123}\n",
    "\n",
    "interact(f, x=drop1, y=drop2);"
   ]
  },
  {
   "cell_type": "code",
<<<<<<< HEAD
   "execution_count": 36,
   "metadata": {},
   "outputs": [
    {
     "data": {
      "application/vnd.jupyter.widget-view+json": {
       "model_id": "cada3b58cb784ce7bdb0ab1412165add",
       "version_major": 2,
       "version_minor": 0
      },
      "text/html": [
       "<p>Failed to display Jupyter Widget of type <code>Dropdown</code>.</p>\n",
       "<p>\n",
       "  If you're reading this message in the Jupyter Notebook or JupyterLab Notebook, it may mean\n",
       "  that the widgets JavaScript is still loading. If this message persists, it\n",
       "  likely means that the widgets JavaScript library is either not installed or\n",
       "  not enabled. See the <a href=\"https://ipywidgets.readthedocs.io/en/stable/user_install.html\">Jupyter\n",
       "  Widgets Documentation</a> for setup instructions.\n",
       "</p>\n",
       "<p>\n",
       "  If you're reading this message in another frontend (for example, a static\n",
       "  rendering on GitHub or <a href=\"https://nbviewer.jupyter.org/\">NBViewer</a>),\n",
       "  it may mean that your frontend doesn't currently support widgets.\n",
       "</p>\n"
      ],
      "text/plain": [
       "Dropdown(options=('ginger', 'green', 'earl grey'), value='ginger')"
      ]
     },
     "metadata": {},
     "output_type": "display_data"
    },
    {
     "data": {
      "application/vnd.jupyter.widget-view+json": {
       "model_id": "0cb8e2c1b81d4e2780cd3e12f90cd0ec",
       "version_major": 2,
       "version_minor": 0
      },
      "text/html": [
       "<p>Failed to display Jupyter Widget of type <code>Dropdown</code>.</p>\n",
       "<p>\n",
       "  If you're reading this message in the Jupyter Notebook or JupyterLab Notebook, it may mean\n",
       "  that the widgets JavaScript is still loading. If this message persists, it\n",
       "  likely means that the widgets JavaScript library is either not installed or\n",
       "  not enabled. See the <a href=\"https://ipywidgets.readthedocs.io/en/stable/user_install.html\">Jupyter\n",
       "  Widgets Documentation</a> for setup instructions.\n",
       "</p>\n",
       "<p>\n",
       "  If you're reading this message in another frontend (for example, a static\n",
       "  rendering on GitHub or <a href=\"https://nbviewer.jupyter.org/\">NBViewer</a>),\n",
       "  it may mean that your frontend doesn't currently support widgets.\n",
       "</p>\n"
      ],
      "text/plain": [
       "Dropdown(index=1, options=('juice', 'tea'), value='tea')"
      ]
     },
     "metadata": {},
     "output_type": "display_data"
    },
    {
     "data": {
      "application/vnd.jupyter.widget-view+json": {
       "model_id": "f443eb63387e4bce91dc41afcf914e0e",
       "version_major": 2,
       "version_minor": 0
      },
      "text/html": [
       "<p>Failed to display Jupyter Widget of type <code>Button</code>.</p>\n",
       "<p>\n",
       "  If you're reading this message in the Jupyter Notebook or JupyterLab Notebook, it may mean\n",
       "  that the widgets JavaScript is still loading. If this message persists, it\n",
       "  likely means that the widgets JavaScript library is either not installed or\n",
       "  not enabled. See the <a href=\"https://ipywidgets.readthedocs.io/en/stable/user_install.html\">Jupyter\n",
       "  Widgets Documentation</a> for setup instructions.\n",
       "</p>\n",
       "<p>\n",
       "  If you're reading this message in another frontend (for example, a static\n",
       "  rendering on GitHub or <a href=\"https://nbviewer.jupyter.org/\">NBViewer</a>),\n",
       "  it may mean that your frontend doesn't currently support widgets.\n",
       "</p>\n"
      ],
      "text/plain": [
       "Button(description='Order!', icon='check', style=ButtonStyle())"
      ]
     },
     "metadata": {},
     "output_type": "display_data"
    }
   ],
=======
   "execution_count": null,
   "metadata": {},
   "outputs": [],
>>>>>>> 125e1ef3db6fd6d4ac501edac41699b44213d580
   "source": [
    "menu = {\n",
    "    'juice':['apple', 'peach', 'grape'],\n",
    "    'tea':['ginger', 'green', 'earl grey'],\n",
    "}\n",
    "\n",
    "selected = 'tea'\n",
    "\n",
    "flavor = Dropdown(options=menu[selected], value=menu[selected][0])\n",
    "drink = Dropdown(options=menu.keys(), value=selected)\n",
    "order = Button(description='Order!', icon='check')\n",
    "\n",
    "def update_drink(change):\n",
    "    flavor.options = menu[change['new']]\n",
    "    flavor.selected = menu[change['new']][0]\n",
    "    \n",
    "def make_order(change):\n",
    "    print(flavor.value, drink.value)\n",
    "    \n",
    "drink.observe(update_drink, names='value')\n",
    "order.on_click(make_order)\n",
    " \n",
    "display(flavor, drink, order)"
   ]
  },
  {
   "cell_type": "markdown",
   "metadata": {},
   "source": [
    "__Exercise__: Can you add a widget for selecting the size? Size is independent of flavors; however, it should be included when the order is made. Allow for sizes small, regular, and large."
   ]
  },
  {
   "cell_type": "markdown",
   "metadata": {},
   "source": [
    "Note that `drop1` and `drop2` are used to fill in the dropdown menus with dictionary keys, but returns the value associated with a selected key. We will need to use this approach for basketball data.\n",
    "\n",
    "The format we need is as follows:\n",
    "- Teams dictionary:   \n",
    "    ```\n",
    "    teams_menu = {\n",
    "        'team1': [teamid1],\n",
    "        'team2': [teamid2],\n",
    "        ...,\n",
    "        }\n",
    "    ```\n",
    "- Players dictionary of dictionaries:   \n",
    "    ```\n",
    "    plyrs_menu = {\n",
    "        [teamid1]:{\n",
    "            'player1': [playerid1],\n",
    "            'player2': [playerid2],\n",
    "            ...,\n",
    "            },\n",
    "        [teamid2]:{\n",
    "            'player12': [playerid12],\n",
    "            'player13': [playerid13],\n",
    "            ...,\n",
    "            }\n",
    "        }\n",
    "    ```\n",
    "\n",
    "Then we can create a function like `make_order()` above to return two ids. These can be used to modify the `param` argument before calling `get_nba_data()` to retrieve data."
   ]
  },
  {
   "cell_type": "code",
<<<<<<< HEAD
   "execution_count": 37,
   "metadata": {
    "scrolled": true
   },
   "outputs": [
    {
     "data": {
      "text/plain": [
       "{'ATL, Hawks': 1610612737,\n",
       " 'BKN, Nets': 1610612751,\n",
       " 'BOS, Celtics': 1610612738,\n",
       " 'CHA, Hornets': 1610612766,\n",
       " 'CHI, Bulls': 1610612741,\n",
       " 'CLE, Cavaliers': 1610612739,\n",
       " 'DAL, Mavericks': 1610612742,\n",
       " 'DEN, Nuggets': 1610612743,\n",
       " 'DET, Pistons': 1610612765,\n",
       " 'GSW, Warriors': 1610612744,\n",
       " 'HOU, Rockets': 1610612745,\n",
       " 'IND, Pacers': 1610612754,\n",
       " 'LAC, Clippers': 1610612746,\n",
       " 'LAL, Lakers': 1610612747,\n",
       " 'MEM, Grizzlies': 1610612763,\n",
       " 'MIA, Heat': 1610612748,\n",
       " 'MIL, Bucks': 1610612749,\n",
       " 'MIN, Timberwolves': 1610612750,\n",
       " 'NOP, Pelicans': 1610612740,\n",
       " 'NYK, Knicks': 1610612752,\n",
       " 'OKC, Thunder': 1610612760,\n",
       " 'ORL, Magic': 1610612753,\n",
       " 'PHI, Sixers': 1610612755,\n",
       " 'PHX, Suns': 1610612756,\n",
       " 'POR, Blazers': 1610612757,\n",
       " 'SAC, Kings': 1610612758,\n",
       " 'SAS, Spurs': 1610612759,\n",
       " 'TOR, Raptors': 1610612761,\n",
       " 'UTA, Jazz': 1610612762,\n",
       " 'WAS, Wizards': 1610612764}"
      ]
     },
     "execution_count": 37,
     "metadata": {},
     "output_type": "execute_result"
    }
   ],
=======
   "execution_count": null,
   "metadata": {},
   "outputs": [],
>>>>>>> 125e1ef3db6fd6d4ac501edac41699b44213d580
   "source": [
    "team_dd_text = teams.TEAM_ABBREVIATION+', '+teams.TEAM_CODE\n",
    "team_dd = dict(zip(team_dd_text, teams.TEAM_ID))\n",
    "team_dd"
   ]
  },
  {
   "cell_type": "code",
<<<<<<< HEAD
   "execution_count": 38,
   "metadata": {},
   "outputs": [
    {
     "data": {
      "text/plain": [
       "{1610612737: {'Bazemore, Kent': 203145,\n",
       "  \"Bembry, DeAndre'\": 1627761,\n",
       "  'Calderon, Jose': 101181,\n",
       "  'Delaney, Malcolm': 1627098,\n",
       "  'Dunleavy, Mike': 2399,\n",
       "  'Hardaway Jr., Tim': 203501,\n",
       "  'Howard, Dwight': 2730,\n",
       "  'Humphries, Kris': 2743,\n",
       "  'Ilyasova, Ersan': 101141,\n",
       "  'Kelly, Ryan': 203527,\n",
       "  'Millsap, Paul': 200794,\n",
       "  'Muscala, Mike': 203488,\n",
       "  'Prince, Taurean': 1627752,\n",
       "  'Schroder, Dennis': 203471,\n",
       "  'Sefolosha, Thabo': 200757},\n",
       " 1610612738: {'Bradley, Avery': 202340,\n",
       "  'Brown, Jaylen': 1627759,\n",
       "  'Crowder, Jae': 203109,\n",
       "  'Green, Gerald': 101123,\n",
       "  'Horford, Al': 201143,\n",
       "  'Jackson, Demetrius': 1627743,\n",
       "  'Jerebko, Jonas': 201973,\n",
       "  'Johnson, Amir': 101161,\n",
       "  'Mickey, Jordan': 1626175,\n",
       "  'Olynyk, Kelly': 203482,\n",
       "  'Rozier, Terry': 1626179,\n",
       "  'Smart, Marcus': 203935,\n",
       "  'Thomas, Isaiah': 202738,\n",
       "  'Young, James': 203923,\n",
       "  'Zeller, Tyler': 203092},\n",
       " 1610612739: {'Felder, Kay': 1627770,\n",
       "  'Frye, Channing': 101112,\n",
       "  'Irving, Kyrie': 202681,\n",
       "  'James, LeBron': 2544,\n",
       "  'Jefferson, Richard': 2210,\n",
       "  'Jones, Dahntay': 2563,\n",
       "  'Jones, James': 2592,\n",
       "  'Korver, Kyle': 2594,\n",
       "  'Love, Kevin': 201567,\n",
       "  'Shumpert, Iman': 202697,\n",
       "  'Smith, JR': 2747,\n",
       "  'Tavares, Edy': 204002,\n",
       "  'Thompson, Tristan': 202684,\n",
       "  'Williams, Deron': 101114,\n",
       "  'Williams, Derrick': 202682},\n",
       " 1610612740: {'Ajinca, Alexis': 201582,\n",
       "  'Asik, Omer': 201600,\n",
       "  'Cook, Quinn': 1626188,\n",
       "  'Cousins, DeMarcus': 202326,\n",
       "  'Crawford, Jordan': 202348,\n",
       "  'Cunningham, Dante': 201967,\n",
       "  'Davis, Anthony': 203076,\n",
       "  'Diallo, Cheick': 1627767,\n",
       "  'Frazier, Tim': 204025,\n",
       "  'Hill, Solomon': 203524,\n",
       "  'Holiday, Jrue': 201950,\n",
       "  \"Moore, E'Twaun\": 202734,\n",
       "  'Motiejunas, Donatas': 202700,\n",
       "  'Pondexter, Quincy': 202347,\n",
       "  'Toupane, Axel': 1626253},\n",
       " 1610612741: {'Butler, Jimmy': 202710,\n",
       "  'Canaan, Isaiah': 203477,\n",
       "  'Carter-Williams, Michael': 203487,\n",
       "  'Felicio, Cristiano': 1626245,\n",
       "  'Grant, Jerian': 1626170,\n",
       "  'Lauvergne, Joffrey': 203530,\n",
       "  'Lopez, Robin': 201577,\n",
       "  'Mirotic, Nikola': 202703,\n",
       "  'Morrow, Anthony': 201627,\n",
       "  'Payne, Cameron': 1626166,\n",
       "  'Portis, Bobby': 1626171,\n",
       "  'Rondo, Rajon': 200765,\n",
       "  'Valentine, Denzel': 1627756,\n",
       "  'Wade, Dwyane': 2548,\n",
       "  'Zipser, Paul': 1627835},\n",
       " 1610612742: {'Barea, J.J.': 200826,\n",
       "  'Barnes, Harrison': 203084,\n",
       "  'Brussino, Nicolas': 1627852,\n",
       "  'Curry, Seth': 203552,\n",
       "  'Ferrell, Yogi': 1627812,\n",
       "  'Finney-Smith, Dorian': 1627827,\n",
       "  'Hammons, AJ': 1627773,\n",
       "  'Harris, Devin': 2734,\n",
       "  'Harris, Manny': 202412,\n",
       "  'Liggins, DeAndre': 202732,\n",
       "  'Matthews, Wesley': 202083,\n",
       "  'Mejri, Salah': 1626257,\n",
       "  'Noel, Nerlens': 203457,\n",
       "  'Nowitzki, Dirk': 1717,\n",
       "  'Powell, Dwight': 203939,\n",
       "  'Uthoff, Jarrod': 1627784},\n",
       " 1610612743: {'Arthur, Darrell': 201589,\n",
       "  'Barton, Will': 203115,\n",
       "  'Beasley, Malik': 1627736,\n",
       "  'Chandler, Wilson': 201163,\n",
       "  'Faried, Kenneth': 202702,\n",
       "  'Gallinari, Danilo': 201568,\n",
       "  'Harris, Gary': 203914,\n",
       "  'Hernangomez, Juancho': 1627823,\n",
       "  'Hibbert, Roy': 201579,\n",
       "  'Jokic, Nikola': 203999,\n",
       "  'Miller, Mike': 2034,\n",
       "  'Mudiay, Emmanuel': 1626144,\n",
       "  'Murray, Jamal': 1627750,\n",
       "  'Nelson, Jameer': 2749,\n",
       "  'Plumlee, Mason': 203486},\n",
       " 1610612744: {'Barnes, Matt': 2440,\n",
       "  'Clark, Ian': 203546,\n",
       "  'Curry, Stephen': 201939,\n",
       "  'Durant, Kevin': 201142,\n",
       "  'Green, Draymond': 203110,\n",
       "  'Iguodala, Andre': 2738,\n",
       "  'Jones, Damian': 1627745,\n",
       "  'Livingston, Shaun': 2733,\n",
       "  'Looney, Kevon': 1626172,\n",
       "  'McAdoo, James Michael': 203949,\n",
       "  'McCaw, Patrick': 1627775,\n",
       "  'McGee, JaVale': 201580,\n",
       "  'Pachulia, Zaza': 2585,\n",
       "  'Thompson, Klay': 202691,\n",
       "  'West, David': 2561},\n",
       " 1610612745: {'Anderson, Ryan': 201583,\n",
       "  'Ariza, Trevor': 2772,\n",
       "  'Beverley, Patrick': 201976,\n",
       "  'Brown, Bobby': 201628,\n",
       "  'Capela, Clint': 203991,\n",
       "  'Dekker, Sam': 1626155,\n",
       "  'Gordon, Eric': 201569,\n",
       "  'Harden, James': 201935,\n",
       "  'Harrell, Montrezl': 1626149,\n",
       "  'Nene': 2403,\n",
       "  'Onuaku, Chinanu': 1627778,\n",
       "  'Taylor, Isaiah': 1627819,\n",
       "  'Williams, Lou': 101150,\n",
       "  'Williams, Troy': 1627786,\n",
       "  'Wiltjer, Kyle': 1627787},\n",
       " 1610612746: {'Anderson, Alan': 101187,\n",
       "  'Bass, Brandon': 101138,\n",
       "  'Crawford, Jamal': 2037,\n",
       "  'Felton, Raymond': 101109,\n",
       "  'Griffin, Blake': 201933,\n",
       "  'Johnson, Brice': 1627744,\n",
       "  'Johnson, Wesley': 202325,\n",
       "  'Jordan, DeAndre': 201599,\n",
       "  'Mbah a Moute, Luc': 201601,\n",
       "  'Paul, Chris': 101108,\n",
       "  'Pierce, Paul': 1718,\n",
       "  'Redick, JJ': 200755,\n",
       "  'Rivers, Austin': 203085,\n",
       "  'Speights, Marreese': 201578,\n",
       "  'Stone, Diamond': 1627754},\n",
       " 1610612747: {'Black, Tarik': 204028,\n",
       "  'Brewer, Corey': 201147,\n",
       "  'Clarkson, Jordan': 203903,\n",
       "  'Deng, Luol': 2736,\n",
       "  'Ennis, Tyler': 203898,\n",
       "  'Ingram, Brandon': 1627742,\n",
       "  'Mozgov, Timofey': 202389,\n",
       "  'Nance Jr., Larry': 1626204,\n",
       "  'Nwaba, David': 1628021,\n",
       "  'Randle, Julius': 203944,\n",
       "  'Robinson, Thomas': 203080,\n",
       "  \"Russell, D'Angelo\": 1626156,\n",
       "  'World Peace, Metta': 1897,\n",
       "  'Young, Nick': 201156,\n",
       "  'Zubac, Ivica': 1627826},\n",
       " 1610612748: {'Babbitt, Luke': 202337,\n",
       "  'Bosh, Chris': 2547,\n",
       "  'Dragic, Goran': 201609,\n",
       "  'Ellington, Wayne': 201961,\n",
       "  'Haslem, Udonis': 2617,\n",
       "  'Johnson, James': 201949,\n",
       "  'Johnson, Tyler': 204020,\n",
       "  'McGruder, Rodney': 203585,\n",
       "  'McRoberts, Josh': 201177,\n",
       "  'Reed, Willie': 203186,\n",
       "  'Richardson, Josh': 1626196,\n",
       "  'Waiters, Dion': 203079,\n",
       "  'White, Okaro': 1627855,\n",
       "  'Whiteside, Hassan': 202355,\n",
       "  'Winslow, Justise': 1626159},\n",
       " 1610612749: {'Antetokounmpo, Giannis': 203507,\n",
       "  'Beasley, Michael': 201563,\n",
       "  'Brogdon, Malcolm': 1627763,\n",
       "  'Dellavedova, Matthew': 203521,\n",
       "  'Hawes, Spencer': 201150,\n",
       "  'Henson, John': 203089,\n",
       "  'Maker, Thon': 1627748,\n",
       "  'Middleton, Khris': 203114,\n",
       "  'Monroe, Greg': 202328,\n",
       "  'Parker, Jabari': 203953,\n",
       "  'Payton II, Gary': 1627780,\n",
       "  'Snell, Tony': 203503,\n",
       "  'Teletovic, Mirza': 203141,\n",
       "  'Terry, Jason': 1891,\n",
       "  'Vaughn, Rashad': 1626173},\n",
       " 1610612750: {'Aldrich, Cole': 202332,\n",
       "  'Bjelica, Nemanja': 202357,\n",
       "  'Casspi, Omri': 201956,\n",
       "  'Dieng, Gorgui': 203476,\n",
       "  'Dunn, Kris': 1627739,\n",
       "  'Hill, Jordan': 201941,\n",
       "  'Jones, Tyus': 1626145,\n",
       "  'LaVine, Zach': 203897,\n",
       "  'Muhammad, Shabazz': 203498,\n",
       "  'Payne, Adreian': 203940,\n",
       "  'Pekovic, Nikola': 201593,\n",
       "  'Rubio, Ricky': 201937,\n",
       "  'Rush, Brandon': 201575,\n",
       "  'Towns, Karl-Anthony': 1626157,\n",
       "  'Wiggins, Andrew': 203952},\n",
       " 1610612751: {'Acy, Quincy': 203112,\n",
       "  'Booker, Trevor': 202344,\n",
       "  'Dinwiddie, Spencer': 203915,\n",
       "  'Foye, Randy': 200751,\n",
       "  'Goodwin, Archie': 203462,\n",
       "  'Hamilton, Justin': 203120,\n",
       "  'Harris, Joe': 203925,\n",
       "  'Hollis-Jefferson, Rondae': 1626178,\n",
       "  'Kilpatrick, Sean': 203930,\n",
       "  'LeVert, Caris': 1627747,\n",
       "  'Lin, Jeremy': 202391,\n",
       "  'Lopez, Brook': 201572,\n",
       "  'McDaniels, KJ': 203909,\n",
       "  'Nicholson, Andrew': 203094,\n",
       "  'Whitehead, Isaiah': 1627785},\n",
       " 1610612752: {'Anthony, Carmelo': 2546,\n",
       "  'Baker, Ron': 1627758,\n",
       "  'Hernangomez, Willy': 1626195,\n",
       "  'Holiday, Justin': 203200,\n",
       "  'Kuzminskas, Mindaugas': 1627851,\n",
       "  'Lee, Courtney': 201584,\n",
       "  'Ndour, Maurice': 1626254,\n",
       "  'Noah, Joakim': 201149,\n",
       "  \"O'Quinn, Kyle\": 203124,\n",
       "  'Plumlee, Marshall': 1627850,\n",
       "  'Porzingis, Kristaps': 204001,\n",
       "  'Randle, Chasson': 1626184,\n",
       "  'Rose, Derrick': 201565,\n",
       "  'Thomas, Lance': 202498,\n",
       "  'Vujacic, Sasha': 2756},\n",
       " 1610612753: {'Augustin, D.J.': 201571,\n",
       "  'Biyombo, Bismack': 202687,\n",
       "  'Fournier, Evan': 203095,\n",
       "  'Garino, Patricio': 1627868,\n",
       "  'Georges-Hunt, Marcus': 1627875,\n",
       "  'Gordon, Aaron': 203932,\n",
       "  'Green, Jeff': 201145,\n",
       "  'Hezonja, Mario': 1626209,\n",
       "  'Meeks, Jodie': 201975,\n",
       "  'Payton, Elfrid': 203901,\n",
       "  'Ross, Terrence': 203082,\n",
       "  'Rudez, Damjan': 204014,\n",
       "  'Vucevic, Nikola': 202696,\n",
       "  'Watson, C.J.': 201228,\n",
       "  'Zimmerman, Stephen': 1627757},\n",
       " 1610612754: {'Allen, Lavoy': 202730,\n",
       "  'Brooks, Aaron': 201166,\n",
       "  'Christmas, Rakeem': 1626176,\n",
       "  'Ellis, Monta': 101145,\n",
       "  'George, Paul': 202331,\n",
       "  'Jefferson, Al': 2744,\n",
       "  'Miles, CJ': 101139,\n",
       "  'Niang, Georges': 1627777,\n",
       "  'Robinson III, Glenn': 203922,\n",
       "  'Seraphin, Kevin': 202338,\n",
       "  'Stephenson, Lance': 202362,\n",
       "  'Teague, Jeff': 201952,\n",
       "  'Turner, Myles': 1626167,\n",
       "  'Young, Joe': 1626202,\n",
       "  'Young, Thaddeus': 201152},\n",
       " 1610612755: {'Anderson, Justin': 1626147,\n",
       "  'Bayless, Jerryd': 201573,\n",
       "  'Covington, Robert': 203496,\n",
       "  'Embiid, Joel': 203954,\n",
       "  'Henderson, Gerald': 201945,\n",
       "  'Holmes, Richaun': 1626158,\n",
       "  'Long, Shawn': 1627848,\n",
       "  'Luwawu-Cabarrot, Timothe': 1627789,\n",
       "  'McConnell, T.J.': 204456,\n",
       "  'Okafor, Jahlil': 1626143,\n",
       "  'Poythress, Alex': 1627816,\n",
       "  'Rodriguez, Sergio': 200771,\n",
       "  'Saric, Dario': 203967,\n",
       "  'Simmons, Ben': 1627732,\n",
       "  'Splitter, Tiago': 201168,\n",
       "  'Stauskas, Nik': 203917},\n",
       " 1610612756: {'Barbosa, Leandro': 2571,\n",
       "  'Bender, Dragan': 1627733,\n",
       "  'Bledsoe, Eric': 202339,\n",
       "  'Booker, Devin': 1626164,\n",
       "  'Chandler, Tyson': 2199,\n",
       "  'Chriss, Marquese': 1627737,\n",
       "  'Dudley, Jared': 201162,\n",
       "  'Jones Jr., Derrick': 1627884,\n",
       "  'Knight, Brandon': 202688,\n",
       "  'Len, Alex': 203458,\n",
       "  'Millsap, Elijah': 202407,\n",
       "  'Price, Ronnie': 101179,\n",
       "  'Ulis, Tyler': 1627755,\n",
       "  'Warren, TJ': 203933,\n",
       "  'Williams, Alan': 1626210},\n",
       " 1610612757: {'Aminu, Al-Farouq': 202329,\n",
       "  'Connaughton, Pat': 1626192,\n",
       "  'Crabbe, Allen': 203459,\n",
       "  'Davis, Ed': 202334,\n",
       "  'Ezeli, Festus': 203105,\n",
       "  'Harkless, Maurice': 203090,\n",
       "  'Layman, Jake': 1627774,\n",
       "  'Leonard, Meyers': 203086,\n",
       "  'Lillard, Damian': 203081,\n",
       "  'McCollum, CJ': 203468,\n",
       "  'Napier, Shabazz': 203894,\n",
       "  'Nurkic, Jusuf': 203994,\n",
       "  'Quarterman, Tim': 1627817,\n",
       "  'Turner, Evan': 202323,\n",
       "  'Vonleh, Noah': 203943},\n",
       " 1610612758: {'Afflalo, Arron': 201167,\n",
       "  'Cauley-Stein, Willie': 1626161,\n",
       "  'Collison, Darren': 201954,\n",
       "  'Evans, Tyreke': 201936,\n",
       "  'Galloway, Langston': 204038,\n",
       "  'Gay, Rudy': 200752,\n",
       "  'Hield, Buddy': 1627741,\n",
       "  'Koufos, Kosta': 201585,\n",
       "  'Labissiere, Skal': 1627746,\n",
       "  'Lawson, Ty': 201951,\n",
       "  'McLemore, Ben': 203463,\n",
       "  'Papagiannis, Georgios': 1627834,\n",
       "  'Richardson, Malachi': 1627781,\n",
       "  'Temple, Garrett': 202066},\n",
       " 1610612759: {'Aldridge, LaMarcus': 200746,\n",
       "  'Anderson, Kyle': 203937,\n",
       "  'Anthony, Joel': 201202,\n",
       "  'Bertans, Davis': 202722,\n",
       "  'Dedmon, Dewayne': 203473,\n",
       "  'Forbes, Bryn': 1627854,\n",
       "  'Gasol, Pau': 2200,\n",
       "  'Ginobili, Manu': 1938,\n",
       "  'Green, Danny': 201980,\n",
       "  'Lee, David': 101135,\n",
       "  'Leonard, Kawhi': 202695,\n",
       "  'Mills, Patty': 201988,\n",
       "  'Murray, Dejounte': 1627749,\n",
       "  'Parker, Tony': 2225,\n",
       "  'Simmons, Jonathon': 203613},\n",
       " 1610612760: {'Abrines, Alex': 203518,\n",
       "  'Adams, Steven': 203500,\n",
       "  'Christon, Semaj': 203902,\n",
       "  'Cole, Norris': 202708,\n",
       "  'Collison, Nick': 2555,\n",
       "  'Gibson, Taj': 201959,\n",
       "  'Grant, Jerami': 203924,\n",
       "  'Huestis, Josh': 203962,\n",
       "  'Kanter, Enes': 202683,\n",
       "  'McDermott, Doug': 203926,\n",
       "  'Oladipo, Victor': 203506,\n",
       "  'Roberson, Andre': 203460,\n",
       "  'Sabonis, Domantas': 1627734,\n",
       "  'Singler, Kyle': 202713,\n",
       "  'Westbrook, Russell': 201566},\n",
       " 1610612761: {'Caboclo, Bruno': 203998,\n",
       "  'Carroll, DeMarre': 201960,\n",
       "  'DeRozan, DeMar': 201942,\n",
       "  'Ibaka, Serge': 201586,\n",
       "  'Joseph, Cory': 202709,\n",
       "  'Lowry, Kyle': 200768,\n",
       "  'Nogueira, Lucas': 203512,\n",
       "  'Patterson, Patrick': 202335,\n",
       "  'Poeltl, Jakob': 1627751,\n",
       "  'Powell, Norman': 1626181,\n",
       "  'Siakam, Pascal': 1627783,\n",
       "  'Tucker, PJ': 200782,\n",
       "  'Valanciunas, Jonas': 202685,\n",
       "  'VanVleet, Fred': 1627832,\n",
       "  'Wright, Delon': 1626153},\n",
       " 1610612762: {'Bolomboy, Joel': 1627762,\n",
       "  'Burks, Alec': 202692,\n",
       "  'Diaw, Boris': 2564,\n",
       "  'Exum, Dante': 203957,\n",
       "  'Favors, Derrick': 202324,\n",
       "  'Gobert, Rudy': 203497,\n",
       "  'Hayward, Gordon': 202330,\n",
       "  'Hill, George': 201588,\n",
       "  'Hood, Rodney': 203918,\n",
       "  'Ingles, Joe': 204060,\n",
       "  'Johnson, Joe': 2207,\n",
       "  'Lyles, Trey': 1626168,\n",
       "  'Mack, Shelvin': 202714,\n",
       "  'Neto, Raul': 203526,\n",
       "  'Withey, Jeff': 203481},\n",
       " 1610612763: {'Allen, Tony': 2754,\n",
       "  'Baldwin IV, Wade': 1627735,\n",
       "  'Carter, Vince': 1713,\n",
       "  'Conley, Mike': 201144,\n",
       "  'Daniels, Troy': 203584,\n",
       "  'Davis, Deyonta': 1627738,\n",
       "  'Ennis III, James': 203516,\n",
       "  'Gasol, Marc': 201188,\n",
       "  'Green, JaMychal': 203210,\n",
       "  'Harrison, Andrew': 1626150,\n",
       "  'Martin, Jarell': 1626185,\n",
       "  'Parsons, Chandler': 202718,\n",
       "  'Randolph, Zach': 2216,\n",
       "  'Selden, Wayne': 1627782,\n",
       "  'Wright, Brandan': 201148},\n",
       " 1610612764: {'Beal, Bradley': 203078,\n",
       "  'Bogdanovic, Bojan': 202711,\n",
       "  'Burke, Trey': 203504,\n",
       "  'Gortat, Marcin': 101162,\n",
       "  'Jennings, Brandon': 201943,\n",
       "  'Mac, Sheldon': 1627815,\n",
       "  'Mahinmi, Ian': 101133,\n",
       "  'McCullough, Chris': 1626191,\n",
       "  'Morris, Markieff': 202693,\n",
       "  'Ochefu, Daniel': 1627849,\n",
       "  'Oubre Jr., Kelly': 1626162,\n",
       "  'Porter Jr., Otto': 203490,\n",
       "  'Satoransky, Tomas': 203107,\n",
       "  'Smith, Jason': 201160,\n",
       "  'Wall, John': 202322},\n",
       " 1610612765: {'Baynes, Aron': 203382,\n",
       "  'Bullock, Reggie': 203493,\n",
       "  'Caldwell-Pope, Kentavious': 203484,\n",
       "  'Drummond, Andre': 203083,\n",
       "  'Ellenson, Henry': 1627740,\n",
       "  'Gbinije, Michael': 1627771,\n",
       "  'Harris, Tobias': 202699,\n",
       "  'Hilliard, Darrun': 1626199,\n",
       "  'Jackson, Reggie': 202704,\n",
       "  'Johnson, Stanley': 1626169,\n",
       "  'Leuer, Jon': 202720,\n",
       "  'Marjanovic, Boban': 1626246,\n",
       "  'Morris, Marcus': 202694,\n",
       "  'Smith, Ish': 202397,\n",
       "  'Udrih, Beno': 2757},\n",
       " 1610612766: {'Batum, Nicolas': 201587,\n",
       "  'Belinelli, Marco': 201158,\n",
       "  'Graham, Treveon': 1626203,\n",
       "  'Kaminsky, Frank': 1626163,\n",
       "  'Kidd-Gilchrist, Michael': 203077,\n",
       "  'Lamb, Jeremy': 203087,\n",
       "  \"O'Bryant III, Johnny\": 203948,\n",
       "  'Plumlee, Miles': 203101,\n",
       "  'Roberts, Brian': 203148,\n",
       "  'Sessions, Ramon': 201196,\n",
       "  'Walker, Kemba': 202689,\n",
       "  'Weber, Briante': 1627362,\n",
       "  'Williams, Marvin': 101107,\n",
       "  'Wood, Christian': 1626174,\n",
       "  'Zeller, Cody': 203469}}"
      ]
     },
     "execution_count": 38,
     "metadata": {},
     "output_type": "execute_result"
    }
   ],
=======
   "execution_count": null,
   "metadata": {},
   "outputs": [],
>>>>>>> 125e1ef3db6fd6d4ac501edac41699b44213d580
   "source": [
    "plyr_by_team_dd = dict()\n",
    "\n",
    "for t, p in players.groupby('TEAM_ID'):\n",
    "    \n",
    "    plyr_by_team_dd[t] = dict(zip(p.DISPLAY_LAST_COMMA_FIRST, p.PERSON_ID))\n",
    "\n",
    "plyr_by_team_dd"
   ]
  },
  {
   "cell_type": "code",
<<<<<<< HEAD
   "execution_count": 39,
   "metadata": {},
   "outputs": [
    {
     "data": {
      "text/plain": [
       "{'Abrines, Alex': 203518,\n",
       " 'Acy, Quincy': 203112,\n",
       " 'Adams, Steven': 203500,\n",
       " 'Afflalo, Arron': 201167,\n",
       " 'Ajinca, Alexis': 201582,\n",
       " 'Aldrich, Cole': 202332,\n",
       " 'Aldridge, LaMarcus': 200746,\n",
       " 'Allen, Lavoy': 202730,\n",
       " 'Allen, Tony': 2754,\n",
       " 'Aminu, Al-Farouq': 202329,\n",
       " 'Anderson, Alan': 101187,\n",
       " 'Anderson, Justin': 1626147,\n",
       " 'Anderson, Kyle': 203937,\n",
       " 'Anderson, Ryan': 201583,\n",
       " 'Antetokounmpo, Giannis': 203507,\n",
       " 'Anthony, Carmelo': 2546,\n",
       " 'Anthony, Joel': 201202,\n",
       " 'Ariza, Trevor': 2772,\n",
       " 'Arthur, Darrell': 201589,\n",
       " 'Asik, Omer': 201600,\n",
       " 'Augustin, D.J.': 201571,\n",
       " 'Babbitt, Luke': 202337,\n",
       " 'Baker, Ron': 1627758,\n",
       " 'Baldwin IV, Wade': 1627735,\n",
       " 'Barbosa, Leandro': 2571,\n",
       " 'Barea, J.J.': 200826,\n",
       " 'Barnes, Harrison': 203084,\n",
       " 'Barnes, Matt': 2440,\n",
       " 'Barton, Will': 203115,\n",
       " 'Bass, Brandon': 101138,\n",
       " 'Batum, Nicolas': 201587,\n",
       " 'Bayless, Jerryd': 201573,\n",
       " 'Baynes, Aron': 203382,\n",
       " 'Bazemore, Kent': 203145,\n",
       " 'Beal, Bradley': 203078,\n",
       " 'Beasley, Malik': 1627736,\n",
       " 'Beasley, Michael': 201563,\n",
       " 'Belinelli, Marco': 201158,\n",
       " \"Bembry, DeAndre'\": 1627761,\n",
       " 'Bender, Dragan': 1627733,\n",
       " 'Bertans, Davis': 202722,\n",
       " 'Beverley, Patrick': 201976,\n",
       " 'Biyombo, Bismack': 202687,\n",
       " 'Bjelica, Nemanja': 202357,\n",
       " 'Black, Tarik': 204028,\n",
       " 'Bledsoe, Eric': 202339,\n",
       " 'Bogdanovic, Bojan': 202711,\n",
       " 'Bolomboy, Joel': 1627762,\n",
       " 'Booker, Devin': 1626164,\n",
       " 'Booker, Trevor': 202344,\n",
       " 'Bosh, Chris': 2547,\n",
       " 'Bradley, Avery': 202340,\n",
       " 'Brewer, Corey': 201147,\n",
       " 'Brogdon, Malcolm': 1627763,\n",
       " 'Brooks, Aaron': 201166,\n",
       " 'Brown, Bobby': 201628,\n",
       " 'Brown, Jaylen': 1627759,\n",
       " 'Brussino, Nicolas': 1627852,\n",
       " 'Bullock, Reggie': 203493,\n",
       " 'Burke, Trey': 203504,\n",
       " 'Burks, Alec': 202692,\n",
       " 'Butler, Jimmy': 202710,\n",
       " 'Caboclo, Bruno': 203998,\n",
       " 'Calderon, Jose': 101181,\n",
       " 'Caldwell-Pope, Kentavious': 203484,\n",
       " 'Canaan, Isaiah': 203477,\n",
       " 'Capela, Clint': 203991,\n",
       " 'Carroll, DeMarre': 201960,\n",
       " 'Carter, Vince': 1713,\n",
       " 'Carter-Williams, Michael': 203487,\n",
       " 'Casspi, Omri': 201956,\n",
       " 'Cauley-Stein, Willie': 1626161,\n",
       " 'Chandler, Tyson': 2199,\n",
       " 'Chandler, Wilson': 201163,\n",
       " 'Chriss, Marquese': 1627737,\n",
       " 'Christmas, Rakeem': 1626176,\n",
       " 'Christon, Semaj': 203902,\n",
       " 'Clark, Ian': 203546,\n",
       " 'Clarkson, Jordan': 203903,\n",
       " 'Cole, Norris': 202708,\n",
       " 'Collison, Darren': 201954,\n",
       " 'Collison, Nick': 2555,\n",
       " 'Conley, Mike': 201144,\n",
       " 'Connaughton, Pat': 1626192,\n",
       " 'Cook, Quinn': 1626188,\n",
       " 'Cousins, DeMarcus': 202326,\n",
       " 'Covington, Robert': 203496,\n",
       " 'Crabbe, Allen': 203459,\n",
       " 'Crawford, Jamal': 2037,\n",
       " 'Crawford, Jordan': 202348,\n",
       " 'Crowder, Jae': 203109,\n",
       " 'Cunningham, Dante': 201967,\n",
       " 'Curry, Seth': 203552,\n",
       " 'Curry, Stephen': 201939,\n",
       " 'Daniels, Troy': 203584,\n",
       " 'Davis, Anthony': 203076,\n",
       " 'Davis, Deyonta': 1627738,\n",
       " 'Davis, Ed': 202334,\n",
       " 'DeRozan, DeMar': 201942,\n",
       " 'Dedmon, Dewayne': 203473,\n",
       " 'Dekker, Sam': 1626155,\n",
       " 'Delaney, Malcolm': 1627098,\n",
       " 'Dellavedova, Matthew': 203521,\n",
       " 'Deng, Luol': 2736,\n",
       " 'Diallo, Cheick': 1627767,\n",
       " 'Diaw, Boris': 2564,\n",
       " 'Dieng, Gorgui': 203476,\n",
       " 'Dinwiddie, Spencer': 203915,\n",
       " 'Dragic, Goran': 201609,\n",
       " 'Drummond, Andre': 203083,\n",
       " 'Dudley, Jared': 201162,\n",
       " 'Dunleavy, Mike': 2399,\n",
       " 'Dunn, Kris': 1627739,\n",
       " 'Durant, Kevin': 201142,\n",
       " 'Ellenson, Henry': 1627740,\n",
       " 'Ellington, Wayne': 201961,\n",
       " 'Ellis, Monta': 101145,\n",
       " 'Embiid, Joel': 203954,\n",
       " 'Ennis, Tyler': 203898,\n",
       " 'Ennis III, James': 203516,\n",
       " 'Evans, Tyreke': 201936,\n",
       " 'Exum, Dante': 203957,\n",
       " 'Ezeli, Festus': 203105,\n",
       " 'Faried, Kenneth': 202702,\n",
       " 'Favors, Derrick': 202324,\n",
       " 'Felder, Kay': 1627770,\n",
       " 'Felicio, Cristiano': 1626245,\n",
       " 'Felton, Raymond': 101109,\n",
       " 'Ferrell, Yogi': 1627812,\n",
       " 'Finney-Smith, Dorian': 1627827,\n",
       " 'Forbes, Bryn': 1627854,\n",
       " 'Fournier, Evan': 203095,\n",
       " 'Foye, Randy': 200751,\n",
       " 'Frazier, Tim': 204025,\n",
       " 'Frye, Channing': 101112,\n",
       " 'Gallinari, Danilo': 201568,\n",
       " 'Galloway, Langston': 204038,\n",
       " 'Garino, Patricio': 1627868,\n",
       " 'Gasol, Marc': 201188,\n",
       " 'Gasol, Pau': 2200,\n",
       " 'Gay, Rudy': 200752,\n",
       " 'Gbinije, Michael': 1627771,\n",
       " 'George, Paul': 202331,\n",
       " 'Georges-Hunt, Marcus': 1627875,\n",
       " 'Gibson, Taj': 201959,\n",
       " 'Ginobili, Manu': 1938,\n",
       " 'Gobert, Rudy': 203497,\n",
       " 'Goodwin, Archie': 203462,\n",
       " 'Gordon, Aaron': 203932,\n",
       " 'Gordon, Eric': 201569,\n",
       " 'Gortat, Marcin': 101162,\n",
       " 'Graham, Treveon': 1626203,\n",
       " 'Grant, Jerami': 203924,\n",
       " 'Grant, Jerian': 1626170,\n",
       " 'Green, Danny': 201980,\n",
       " 'Green, Draymond': 203110,\n",
       " 'Green, Gerald': 101123,\n",
       " 'Green, JaMychal': 203210,\n",
       " 'Green, Jeff': 201145,\n",
       " 'Griffin, Blake': 201933,\n",
       " 'Hamilton, Justin': 203120,\n",
       " 'Hammons, AJ': 1627773,\n",
       " 'Hardaway Jr., Tim': 203501,\n",
       " 'Harden, James': 201935,\n",
       " 'Harkless, Maurice': 203090,\n",
       " 'Harrell, Montrezl': 1626149,\n",
       " 'Harris, Devin': 2734,\n",
       " 'Harris, Gary': 203914,\n",
       " 'Harris, Joe': 203925,\n",
       " 'Harris, Manny': 202412,\n",
       " 'Harris, Tobias': 202699,\n",
       " 'Harrison, Andrew': 1626150,\n",
       " 'Haslem, Udonis': 2617,\n",
       " 'Hawes, Spencer': 201150,\n",
       " 'Hayward, Gordon': 202330,\n",
       " 'Henderson, Gerald': 201945,\n",
       " 'Henson, John': 203089,\n",
       " 'Hernangomez, Juancho': 1627823,\n",
       " 'Hernangomez, Willy': 1626195,\n",
       " 'Hezonja, Mario': 1626209,\n",
       " 'Hibbert, Roy': 201579,\n",
       " 'Hield, Buddy': 1627741,\n",
       " 'Nene': 2403,\n",
       " 'Hill, George': 201588,\n",
       " 'Hill, Jordan': 201941,\n",
       " 'Hill, Solomon': 203524,\n",
       " 'Hilliard, Darrun': 1626199,\n",
       " 'Holiday, Jrue': 201950,\n",
       " 'Holiday, Justin': 203200,\n",
       " 'Hollis-Jefferson, Rondae': 1626178,\n",
       " 'Holmes, Richaun': 1626158,\n",
       " 'Hood, Rodney': 203918,\n",
       " 'Horford, Al': 201143,\n",
       " 'Howard, Dwight': 2730,\n",
       " 'Huestis, Josh': 203962,\n",
       " 'Humphries, Kris': 2743,\n",
       " 'Ibaka, Serge': 201586,\n",
       " 'Iguodala, Andre': 2738,\n",
       " 'Ilyasova, Ersan': 101141,\n",
       " 'Ingles, Joe': 204060,\n",
       " 'Ingram, Brandon': 1627742,\n",
       " 'Irving, Kyrie': 202681,\n",
       " 'Jackson, Demetrius': 1627743,\n",
       " 'Jackson, Reggie': 202704,\n",
       " 'James, LeBron': 2544,\n",
       " 'Jefferson, Al': 2744,\n",
       " 'Jefferson, Richard': 2210,\n",
       " 'Jennings, Brandon': 201943,\n",
       " 'Jerebko, Jonas': 201973,\n",
       " 'Johnson, Amir': 101161,\n",
       " 'Johnson, Brice': 1627744,\n",
       " 'Johnson, James': 201949,\n",
       " 'Johnson, Joe': 2207,\n",
       " 'Johnson, Stanley': 1626169,\n",
       " 'Johnson, Tyler': 204020,\n",
       " 'Johnson, Wesley': 202325,\n",
       " 'Jokic, Nikola': 203999,\n",
       " 'Jones, Dahntay': 2563,\n",
       " 'Jones, Damian': 1627745,\n",
       " 'Jones, James': 2592,\n",
       " 'Jones, Tyus': 1626145,\n",
       " 'Jones Jr., Derrick': 1627884,\n",
       " 'Jordan, DeAndre': 201599,\n",
       " 'Joseph, Cory': 202709,\n",
       " 'Kaminsky, Frank': 1626163,\n",
       " 'Kanter, Enes': 202683,\n",
       " 'Kelly, Ryan': 203527,\n",
       " 'Kidd-Gilchrist, Michael': 203077,\n",
       " 'Kilpatrick, Sean': 203930,\n",
       " 'Knight, Brandon': 202688,\n",
       " 'Korver, Kyle': 2594,\n",
       " 'Koufos, Kosta': 201585,\n",
       " 'Kuzminskas, Mindaugas': 1627851,\n",
       " 'LaVine, Zach': 203897,\n",
       " 'Labissiere, Skal': 1627746,\n",
       " 'Lamb, Jeremy': 203087,\n",
       " 'Lauvergne, Joffrey': 203530,\n",
       " 'Lawson, Ty': 201951,\n",
       " 'Layman, Jake': 1627774,\n",
       " 'LeVert, Caris': 1627747,\n",
       " 'Lee, Courtney': 201584,\n",
       " 'Lee, David': 101135,\n",
       " 'Len, Alex': 203458,\n",
       " 'Leonard, Kawhi': 202695,\n",
       " 'Leonard, Meyers': 203086,\n",
       " 'Leuer, Jon': 202720,\n",
       " 'Liggins, DeAndre': 202732,\n",
       " 'Lillard, Damian': 203081,\n",
       " 'Lin, Jeremy': 202391,\n",
       " 'Livingston, Shaun': 2733,\n",
       " 'Long, Shawn': 1627848,\n",
       " 'Looney, Kevon': 1626172,\n",
       " 'Lopez, Brook': 201572,\n",
       " 'Lopez, Robin': 201577,\n",
       " 'Love, Kevin': 201567,\n",
       " 'Lowry, Kyle': 200768,\n",
       " 'Luwawu-Cabarrot, Timothe': 1627789,\n",
       " 'Lyles, Trey': 1626168,\n",
       " 'Mac, Sheldon': 1627815,\n",
       " 'Mack, Shelvin': 202714,\n",
       " 'Mahinmi, Ian': 101133,\n",
       " 'Maker, Thon': 1627748,\n",
       " 'Marjanovic, Boban': 1626246,\n",
       " 'Martin, Jarell': 1626185,\n",
       " 'Matthews, Wesley': 202083,\n",
       " 'Mbah a Moute, Luc': 201601,\n",
       " 'McAdoo, James Michael': 203949,\n",
       " 'McCaw, Patrick': 1627775,\n",
       " 'McCollum, CJ': 203468,\n",
       " 'McConnell, T.J.': 204456,\n",
       " 'McCullough, Chris': 1626191,\n",
       " 'McDaniels, KJ': 203909,\n",
       " 'McDermott, Doug': 203926,\n",
       " 'McGee, JaVale': 201580,\n",
       " 'McGruder, Rodney': 203585,\n",
       " 'McLemore, Ben': 203463,\n",
       " 'McRoberts, Josh': 201177,\n",
       " 'Meeks, Jodie': 201975,\n",
       " 'Mejri, Salah': 1626257,\n",
       " 'Mickey, Jordan': 1626175,\n",
       " 'Middleton, Khris': 203114,\n",
       " 'Miles, CJ': 101139,\n",
       " 'Miller, Mike': 2034,\n",
       " 'Mills, Patty': 201988,\n",
       " 'Millsap, Elijah': 202407,\n",
       " 'Millsap, Paul': 200794,\n",
       " 'Mirotic, Nikola': 202703,\n",
       " 'Monroe, Greg': 202328,\n",
       " \"Moore, E'Twaun\": 202734,\n",
       " 'Morris, Marcus': 202694,\n",
       " 'Morris, Markieff': 202693,\n",
       " 'Morrow, Anthony': 201627,\n",
       " 'Motiejunas, Donatas': 202700,\n",
       " 'Mozgov, Timofey': 202389,\n",
       " 'Mudiay, Emmanuel': 1626144,\n",
       " 'Muhammad, Shabazz': 203498,\n",
       " 'Murray, Dejounte': 1627749,\n",
       " 'Murray, Jamal': 1627750,\n",
       " 'Muscala, Mike': 203488,\n",
       " 'Nance Jr., Larry': 1626204,\n",
       " 'Napier, Shabazz': 203894,\n",
       " 'Ndour, Maurice': 1626254,\n",
       " 'Nelson, Jameer': 2749,\n",
       " 'Neto, Raul': 203526,\n",
       " 'Niang, Georges': 1627777,\n",
       " 'Nicholson, Andrew': 203094,\n",
       " 'Noah, Joakim': 201149,\n",
       " 'Noel, Nerlens': 203457,\n",
       " 'Nogueira, Lucas': 203512,\n",
       " 'Nowitzki, Dirk': 1717,\n",
       " 'Nurkic, Jusuf': 203994,\n",
       " 'Nwaba, David': 1628021,\n",
       " \"O'Bryant III, Johnny\": 203948,\n",
       " \"O'Quinn, Kyle\": 203124,\n",
       " 'Ochefu, Daniel': 1627849,\n",
       " 'Okafor, Jahlil': 1626143,\n",
       " 'Oladipo, Victor': 203506,\n",
       " 'Olynyk, Kelly': 203482,\n",
       " 'Onuaku, Chinanu': 1627778,\n",
       " 'Oubre Jr., Kelly': 1626162,\n",
       " 'Pachulia, Zaza': 2585,\n",
       " 'Papagiannis, Georgios': 1627834,\n",
       " 'Parker, Jabari': 203953,\n",
       " 'Parker, Tony': 2225,\n",
       " 'Parsons, Chandler': 202718,\n",
       " 'Patterson, Patrick': 202335,\n",
       " 'Paul, Chris': 101108,\n",
       " 'Payne, Adreian': 203940,\n",
       " 'Payne, Cameron': 1626166,\n",
       " 'Payton, Elfrid': 203901,\n",
       " 'Payton II, Gary': 1627780,\n",
       " 'Pekovic, Nikola': 201593,\n",
       " 'Pierce, Paul': 1718,\n",
       " 'Plumlee, Marshall': 1627850,\n",
       " 'Plumlee, Mason': 203486,\n",
       " 'Plumlee, Miles': 203101,\n",
       " 'Poeltl, Jakob': 1627751,\n",
       " 'Pondexter, Quincy': 202347,\n",
       " 'Porter Jr., Otto': 203490,\n",
       " 'Portis, Bobby': 1626171,\n",
       " 'Porzingis, Kristaps': 204001,\n",
       " 'Powell, Dwight': 203939,\n",
       " 'Powell, Norman': 1626181,\n",
       " 'Poythress, Alex': 1627816,\n",
       " 'Price, Ronnie': 101179,\n",
       " 'Prince, Taurean': 1627752,\n",
       " 'Quarterman, Tim': 1627817,\n",
       " 'Randle, Chasson': 1626184,\n",
       " 'Randle, Julius': 203944,\n",
       " 'Randolph, Zach': 2216,\n",
       " 'Redick, JJ': 200755,\n",
       " 'Reed, Willie': 203186,\n",
       " 'Richardson, Josh': 1626196,\n",
       " 'Richardson, Malachi': 1627781,\n",
       " 'Rivers, Austin': 203085,\n",
       " 'Roberson, Andre': 203460,\n",
       " 'Roberts, Brian': 203148,\n",
       " 'Robinson, Thomas': 203080,\n",
       " 'Robinson III, Glenn': 203922,\n",
       " 'Rodriguez, Sergio': 200771,\n",
       " 'Rondo, Rajon': 200765,\n",
       " 'Rose, Derrick': 201565,\n",
       " 'Ross, Terrence': 203082,\n",
       " 'Rozier, Terry': 1626179,\n",
       " 'Rubio, Ricky': 201937,\n",
       " 'Rudez, Damjan': 204014,\n",
       " 'Rush, Brandon': 201575,\n",
       " \"Russell, D'Angelo\": 1626156,\n",
       " 'Sabonis, Domantas': 1627734,\n",
       " 'Saric, Dario': 203967,\n",
       " 'Satoransky, Tomas': 203107,\n",
       " 'Schroder, Dennis': 203471,\n",
       " 'Sefolosha, Thabo': 200757,\n",
       " 'Selden, Wayne': 1627782,\n",
       " 'Seraphin, Kevin': 202338,\n",
       " 'Sessions, Ramon': 201196,\n",
       " 'Shumpert, Iman': 202697,\n",
       " 'Siakam, Pascal': 1627783,\n",
       " 'Simmons, Ben': 1627732,\n",
       " 'Simmons, Jonathon': 203613,\n",
       " 'Singler, Kyle': 202713,\n",
       " 'Smart, Marcus': 203935,\n",
       " 'Smith, Ish': 202397,\n",
       " 'Smith, JR': 2747,\n",
       " 'Smith, Jason': 201160,\n",
       " 'Snell, Tony': 203503,\n",
       " 'Speights, Marreese': 201578,\n",
       " 'Splitter, Tiago': 201168,\n",
       " 'Stauskas, Nik': 203917,\n",
       " 'Stephenson, Lance': 202362,\n",
       " 'Stone, Diamond': 1627754,\n",
       " 'Tavares, Edy': 204002,\n",
       " 'Taylor, Isaiah': 1627819,\n",
       " 'Teague, Jeff': 201952,\n",
       " 'Teletovic, Mirza': 203141,\n",
       " 'Temple, Garrett': 202066,\n",
       " 'Terry, Jason': 1891,\n",
       " 'Thomas, Isaiah': 202738,\n",
       " 'Thomas, Lance': 202498,\n",
       " 'Thompson, Klay': 202691,\n",
       " 'Thompson, Tristan': 202684,\n",
       " 'Toupane, Axel': 1626253,\n",
       " 'Towns, Karl-Anthony': 1626157,\n",
       " 'Tucker, PJ': 200782,\n",
       " 'Turner, Evan': 202323,\n",
       " 'Turner, Myles': 1626167,\n",
       " 'Udrih, Beno': 2757,\n",
       " 'Ulis, Tyler': 1627755,\n",
       " 'Uthoff, Jarrod': 1627784,\n",
       " 'Valanciunas, Jonas': 202685,\n",
       " 'Valentine, Denzel': 1627756,\n",
       " 'VanVleet, Fred': 1627832,\n",
       " 'Vaughn, Rashad': 1626173,\n",
       " 'Vonleh, Noah': 203943,\n",
       " 'Vucevic, Nikola': 202696,\n",
       " 'Vujacic, Sasha': 2756,\n",
       " 'Wade, Dwyane': 2548,\n",
       " 'Waiters, Dion': 203079,\n",
       " 'Walker, Kemba': 202689,\n",
       " 'Wall, John': 202322,\n",
       " 'Warren, TJ': 203933,\n",
       " 'Watson, C.J.': 201228,\n",
       " 'Weber, Briante': 1627362,\n",
       " 'West, David': 2561,\n",
       " 'Westbrook, Russell': 201566,\n",
       " 'White, Okaro': 1627855,\n",
       " 'Whitehead, Isaiah': 1627785,\n",
       " 'Whiteside, Hassan': 202355,\n",
       " 'Wiggins, Andrew': 203952,\n",
       " 'Williams, Alan': 1626210,\n",
       " 'Williams, Deron': 101114,\n",
       " 'Williams, Derrick': 202682,\n",
       " 'Williams, Lou': 101150,\n",
       " 'Williams, Marvin': 101107,\n",
       " 'Williams, Troy': 1627786,\n",
       " 'Wiltjer, Kyle': 1627787,\n",
       " 'Winslow, Justise': 1626159,\n",
       " 'Withey, Jeff': 203481,\n",
       " 'Wood, Christian': 1626174,\n",
       " 'World Peace, Metta': 1897,\n",
       " 'Wright, Brandan': 201148,\n",
       " 'Wright, Delon': 1626153,\n",
       " 'Young, James': 203923,\n",
       " 'Young, Joe': 1626202,\n",
       " 'Young, Nick': 201156,\n",
       " 'Young, Thaddeus': 201152,\n",
       " 'Zeller, Cody': 203469,\n",
       " 'Zeller, Tyler': 203092,\n",
       " 'Zimmerman, Stephen': 1627757,\n",
       " 'Zipser, Paul': 1627835,\n",
       " 'Zubac, Ivica': 1627826}"
      ]
     },
     "execution_count": 39,
     "metadata": {},
     "output_type": "execute_result"
    }
   ],
=======
   "execution_count": null,
   "metadata": {},
   "outputs": [],
>>>>>>> 125e1ef3db6fd6d4ac501edac41699b44213d580
   "source": [
    "plyr_dd_text = players.DISPLAY_LAST_COMMA_FIRST\n",
    "plyr_dd_id = players.PERSON_ID\n",
    "plyr_dd = dict(zip(plyr_dd_text, plyr_dd_id))\n",
    "plyr_dd"
   ]
  },
  {
   "cell_type": "code",
<<<<<<< HEAD
   "execution_count": 42,
   "metadata": {},
   "outputs": [
    {
     "data": {
      "application/vnd.jupyter.widget-view+json": {
       "model_id": "0a48e0934d4c4831a54653ffd0f80dda",
       "version_major": 2,
       "version_minor": 0
      },
      "text/html": [
       "<p>Failed to display Jupyter Widget of type <code>Dropdown</code>.</p>\n",
       "<p>\n",
       "  If you're reading this message in the Jupyter Notebook or JupyterLab Notebook, it may mean\n",
       "  that the widgets JavaScript is still loading. If this message persists, it\n",
       "  likely means that the widgets JavaScript library is either not installed or\n",
       "  not enabled. See the <a href=\"https://ipywidgets.readthedocs.io/en/stable/user_install.html\">Jupyter\n",
       "  Widgets Documentation</a> for setup instructions.\n",
       "</p>\n",
       "<p>\n",
       "  If you're reading this message in another frontend (for example, a static\n",
       "  rendering on GitHub or <a href=\"https://nbviewer.jupyter.org/\">NBViewer</a>),\n",
       "  it may mean that your frontend doesn't currently support widgets.\n",
       "</p>\n"
      ],
      "text/plain": [
       "Dropdown(index=12, options={'ATL, Hawks': 1610612737, 'BKN, Nets': 1610612751, 'BOS, Celtics': 1610612738, 'CHA, Hornets': 1610612766, 'CHI, Bulls': 1610612741, 'CLE, Cavaliers': 1610612739, 'DAL, Mavericks': 1610612742, 'DEN, Nuggets': 1610612743, 'DET, Pistons': 1610612765, 'GSW, Warriors': 1610612744, 'HOU, Rockets': 1610612745, 'IND, Pacers': 1610612754, 'LAC, Clippers': 1610612746, 'LAL, Lakers': 1610612747, 'MEM, Grizzlies': 1610612763, 'MIA, Heat': 1610612748, 'MIL, Bucks': 1610612749, 'MIN, Timberwolves': 1610612750, 'NOP, Pelicans': 1610612740, 'NYK, Knicks': 1610612752, 'OKC, Thunder': 1610612760, 'ORL, Magic': 1610612753, 'PHI, Sixers': 1610612755, 'PHX, Suns': 1610612756, 'POR, Blazers': 1610612757, 'SAC, Kings': 1610612758, 'SAS, Spurs': 1610612759, 'TOR, Raptors': 1610612761, 'UTA, Jazz': 1610612762, 'WAS, Wizards': 1610612764}, value=1610612746)"
      ]
     },
     "metadata": {},
     "output_type": "display_data"
    },
    {
     "data": {
      "application/vnd.jupyter.widget-view+json": {
       "model_id": "42fb7c3a98944c7bb43cc67c98e93650",
       "version_major": 2,
       "version_minor": 0
      },
      "text/html": [
       "<p>Failed to display Jupyter Widget of type <code>Dropdown</code>.</p>\n",
       "<p>\n",
       "  If you're reading this message in the Jupyter Notebook or JupyterLab Notebook, it may mean\n",
       "  that the widgets JavaScript is still loading. If this message persists, it\n",
       "  likely means that the widgets JavaScript library is either not installed or\n",
       "  not enabled. See the <a href=\"https://ipywidgets.readthedocs.io/en/stable/user_install.html\">Jupyter\n",
       "  Widgets Documentation</a> for setup instructions.\n",
       "</p>\n",
       "<p>\n",
       "  If you're reading this message in another frontend (for example, a static\n",
       "  rendering on GitHub or <a href=\"https://nbviewer.jupyter.org/\">NBViewer</a>),\n",
       "  it may mean that your frontend doesn't currently support widgets.\n",
       "</p>\n"
      ],
      "text/plain": [
       "Dropdown(options={'Anderson, Alan': 101187, 'Bass, Brandon': 101138, 'Crawford, Jamal': 2037, 'Felton, Raymond': 101109, 'Griffin, Blake': 201933, 'Johnson, Brice': 1627744, 'Johnson, Wesley': 202325, 'Jordan, DeAndre': 201599, 'Mbah a Moute, Luc': 201601, 'Paul, Chris': 101108, 'Pierce, Paul': 1718, 'Redick, JJ': 200755, 'Rivers, Austin': 203085, 'Speights, Marreese': 201578, 'Stone, Diamond': 1627754}, value=101187)"
      ]
     },
     "metadata": {},
     "output_type": "display_data"
    }
   ],
=======
   "execution_count": null,
   "metadata": {},
   "outputs": [],
>>>>>>> 125e1ef3db6fd6d4ac501edac41699b44213d580
   "source": [
    "# selected = 'ATL, Hawks'\n",
    "selected = 'LAC, Clippers'\n",
    "\n",
    "team_menu = Dropdown(options=team_dd, label=selected)\n",
    "plyr_menu = Dropdown(options=plyr_by_team_dd[team_dd[selected]])\n",
    "\n",
    "display(team_menu, plyr_menu)"
   ]
  },
  {
   "cell_type": "markdown",
   "metadata": {},
   "source": [
    "Adding an \"observer\" watches for change events to the drop down menus"
   ]
  },
  {
   "cell_type": "code",
<<<<<<< HEAD
   "execution_count": 43,
=======
   "execution_count": null,
>>>>>>> 125e1ef3db6fd6d4ac501edac41699b44213d580
   "metadata": {},
   "outputs": [],
   "source": [
    "def test_team(change):\n",
    "    \n",
    "    print(change['new'])\n",
    "    print(\"***********\")\n",
    "    print(change)\n",
    "    \n",
    "team_menu.observe(test_team, names='label')\n",
    "# team_menu.observe(test_team, names=['label', 'value']) ## what does this do?"
   ]
  },
  {
   "cell_type": "markdown",
   "metadata": {},
   "source": [
    "__Exercise__: What does the `label` refer to? What does adding `value` do?"
   ]
  },
  {
   "cell_type": "code",
<<<<<<< HEAD
   "execution_count": 44,
   "metadata": {},
   "outputs": [
    {
     "data": {
      "application/vnd.jupyter.widget-view+json": {
       "model_id": "cf5c7601eb944368933211849be7cba4",
       "version_major": 2,
       "version_minor": 0
      },
      "text/html": [
       "<p>Failed to display Jupyter Widget of type <code>Dropdown</code>.</p>\n",
       "<p>\n",
       "  If you're reading this message in the Jupyter Notebook or JupyterLab Notebook, it may mean\n",
       "  that the widgets JavaScript is still loading. If this message persists, it\n",
       "  likely means that the widgets JavaScript library is either not installed or\n",
       "  not enabled. See the <a href=\"https://ipywidgets.readthedocs.io/en/stable/user_install.html\">Jupyter\n",
       "  Widgets Documentation</a> for setup instructions.\n",
       "</p>\n",
       "<p>\n",
       "  If you're reading this message in another frontend (for example, a static\n",
       "  rendering on GitHub or <a href=\"https://nbviewer.jupyter.org/\">NBViewer</a>),\n",
       "  it may mean that your frontend doesn't currently support widgets.\n",
       "</p>\n"
      ],
      "text/plain": [
       "Dropdown(index=12, options={'ATL, Hawks': 1610612737, 'BKN, Nets': 1610612751, 'BOS, Celtics': 1610612738, 'CHA, Hornets': 1610612766, 'CHI, Bulls': 1610612741, 'CLE, Cavaliers': 1610612739, 'DAL, Mavericks': 1610612742, 'DEN, Nuggets': 1610612743, 'DET, Pistons': 1610612765, 'GSW, Warriors': 1610612744, 'HOU, Rockets': 1610612745, 'IND, Pacers': 1610612754, 'LAC, Clippers': 1610612746, 'LAL, Lakers': 1610612747, 'MEM, Grizzlies': 1610612763, 'MIA, Heat': 1610612748, 'MIL, Bucks': 1610612749, 'MIN, Timberwolves': 1610612750, 'NOP, Pelicans': 1610612740, 'NYK, Knicks': 1610612752, 'OKC, Thunder': 1610612760, 'ORL, Magic': 1610612753, 'PHI, Sixers': 1610612755, 'PHX, Suns': 1610612756, 'POR, Blazers': 1610612757, 'SAC, Kings': 1610612758, 'SAS, Spurs': 1610612759, 'TOR, Raptors': 1610612761, 'UTA, Jazz': 1610612762, 'WAS, Wizards': 1610612764}, value=1610612746)"
      ]
     },
     "metadata": {},
     "output_type": "display_data"
    },
    {
     "data": {
      "application/vnd.jupyter.widget-view+json": {
       "model_id": "ce2b7aaec8fa45c0b3f931982fdc0b2c",
       "version_major": 2,
       "version_minor": 0
      },
      "text/html": [
       "<p>Failed to display Jupyter Widget of type <code>Dropdown</code>.</p>\n",
       "<p>\n",
       "  If you're reading this message in the Jupyter Notebook or JupyterLab Notebook, it may mean\n",
       "  that the widgets JavaScript is still loading. If this message persists, it\n",
       "  likely means that the widgets JavaScript library is either not installed or\n",
       "  not enabled. See the <a href=\"https://ipywidgets.readthedocs.io/en/stable/user_install.html\">Jupyter\n",
       "  Widgets Documentation</a> for setup instructions.\n",
       "</p>\n",
       "<p>\n",
       "  If you're reading this message in another frontend (for example, a static\n",
       "  rendering on GitHub or <a href=\"https://nbviewer.jupyter.org/\">NBViewer</a>),\n",
       "  it may mean that your frontend doesn't currently support widgets.\n",
       "</p>\n"
      ],
      "text/plain": [
       "Dropdown(options={'Anderson, Alan': 101187, 'Bass, Brandon': 101138, 'Crawford, Jamal': 2037, 'Felton, Raymond': 101109, 'Griffin, Blake': 201933, 'Johnson, Brice': 1627744, 'Johnson, Wesley': 202325, 'Jordan, DeAndre': 201599, 'Mbah a Moute, Luc': 201601, 'Paul, Chris': 101108, 'Pierce, Paul': 1718, 'Redick, JJ': 200755, 'Rivers, Austin': 203085, 'Speights, Marreese': 201578, 'Stone, Diamond': 1627754}, value=101187)"
      ]
     },
     "metadata": {},
     "output_type": "display_data"
    }
   ],
=======
   "execution_count": null,
   "metadata": {},
   "outputs": [],
>>>>>>> 125e1ef3db6fd6d4ac501edac41699b44213d580
   "source": [
    "# selected = 'ATL, Hawks'\n",
    "selected = 'LAC, Clippers'\n",
    "\n",
    "team_menu = Dropdown(options=team_dd, label=selected)\n",
    "plyr_menu = Dropdown(options=plyr_by_team_dd[team_dd[selected]])\n",
    "\n",
    "display(team_menu, plyr_menu)\n",
    "\n",
    "def update_team(change):\n",
    "    plyr_menu.options = plyr_by_team_dd[change['new']]\n",
    "\n",
    "team_menu.observe(update_team, names='value')"
   ]
  },
  {
   "cell_type": "code",
   "execution_count": null,
   "metadata": {},
   "outputs": [],
   "source": [
    "from ipywidgets import link, dlink\n",
    "\n",
    "# selected = 'ATL, Hawks'\n",
    "selected = 'LAC, Clippers'\n",
    "\n",
    "team_menu = Dropdown(options=team_dd, label=selected)\n",
    "plyr_menu = Dropdown(options=plyr_by_team_dd[team_dd[selected]])\n",
    "fetch_button = Button(description='Get Data!', icon='check')\n",
    "\n",
    "display(team_menu, plyr_menu, fetch_button)\n",
    "\n",
    "## update players list\n",
    "def update_team(change):\n",
    "    plyr_menu.options = plyr_by_team_dd[change['new']]\n",
    "\n",
    "team_menu.observe(update_team, names='value')\n",
    "\n",
    "## get data action\n",
    "def get_data(change):\n",
    "    print(team_menu.value, plyr_menu.value)\n",
    "    \n",
    "fetch_button.on_click(get_data)"
   ]
  },
  {
   "cell_type": "markdown",
   "metadata": {},
   "source": [
    "__Exercise__: How would you modify `get_data()` function to construct `param` and fetch data using `get_nba_data()`?"
   ]
  }
 ],
 "metadata": {
  "language_info": {
   "name": "python",
   "pygments_lexer": "ipython3"
  }
 },
 "nbformat": 4,
 "nbformat_minor": 2
}
